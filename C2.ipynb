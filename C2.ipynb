{
 "cells": [
  {
   "cell_type": "code",
   "execution_count": 14,
   "id": "c5118a5f-05ba-46f5-b044-c0b0dff4da42",
   "metadata": {},
   "outputs": [],
   "source": [
    "import torch"
   ]
  },
  {
   "cell_type": "markdown",
   "id": "20d12431-fa5e-4014-9aa0-97d6c94c8d1a",
   "metadata": {},
   "source": [
    "**创建张量**"
   ]
  },
  {
   "cell_type": "code",
   "execution_count": 11,
   "id": "a7e832d7-6706-4de9-a390-e1149a4549a8",
   "metadata": {},
   "outputs": [
    {
     "data": {
      "text/plain": [
       "tensor([[ 0.0000e+00,  0.0000e+00,  2.1019e-44],\n",
       "        [ 0.0000e+00, -1.0752e-33,  8.1976e-43],\n",
       "        [ 1.0653e-38,  1.0194e-38,  0.0000e+00],\n",
       "        [ 0.0000e+00,  2.1019e-44,  0.0000e+00],\n",
       "        [-9.1001e+33,  8.1976e-43,  8.9082e-39]])"
      ]
     },
     "execution_count": 11,
     "metadata": {},
     "output_type": "execute_result"
    }
   ],
   "source": [
    "x = torch.empty(5,3)\n",
    "x"
   ]
  },
  {
   "cell_type": "code",
   "execution_count": 12,
   "id": "661e274d-6d5e-4a9b-babf-9f4027f23fc8",
   "metadata": {},
   "outputs": [
    {
     "data": {
      "text/plain": [
       "tensor([[0.5447, 0.8207, 0.2529],\n",
       "        [0.9162, 0.3581, 0.2011],\n",
       "        [0.1311, 0.0377, 0.3079],\n",
       "        [0.7253, 0.0445, 0.6432],\n",
       "        [0.5370, 0.6579, 0.6980]])"
      ]
     },
     "execution_count": 12,
     "metadata": {},
     "output_type": "execute_result"
    }
   ],
   "source": [
    "x = torch.rand(5,3)\n",
    "x"
   ]
  },
  {
   "cell_type": "code",
   "execution_count": 14,
   "id": "1e817953-fc90-4b6e-b8a6-4748de721667",
   "metadata": {},
   "outputs": [
    {
     "data": {
      "text/plain": [
       "tensor([[0, 0, 0],\n",
       "        [0, 0, 0],\n",
       "        [0, 0, 0],\n",
       "        [0, 0, 0],\n",
       "        [0, 0, 0]])"
      ]
     },
     "execution_count": 14,
     "metadata": {},
     "output_type": "execute_result"
    }
   ],
   "source": [
    "x = torch.zeros(5,3,dtype=torch.long)\n",
    "x"
   ]
  },
  {
   "cell_type": "code",
   "execution_count": 16,
   "id": "db494eef-8626-4b30-9fa1-fcb97a8c301d",
   "metadata": {},
   "outputs": [
    {
     "data": {
      "text/plain": [
       "tensor([5, 5, 1])"
      ]
     },
     "execution_count": 16,
     "metadata": {},
     "output_type": "execute_result"
    }
   ],
   "source": [
    "x = torch.tensor([5,5,1])\n",
    "x"
   ]
  },
  {
   "cell_type": "code",
   "execution_count": 19,
   "id": "3133057a-3e47-4674-bc5c-eef0f27452cf",
   "metadata": {},
   "outputs": [],
   "source": [
    "a = x.new_ones(5,2)"
   ]
  },
  {
   "cell_type": "code",
   "execution_count": 21,
   "id": "e9e2de86-9f9d-4073-a7e5-098f301d59a5",
   "metadata": {},
   "outputs": [
    {
     "data": {
      "text/plain": [
       "torch.Size([3])"
      ]
     },
     "execution_count": 21,
     "metadata": {},
     "output_type": "execute_result"
    }
   ],
   "source": [
    "x.size()"
   ]
  },
  {
   "cell_type": "code",
   "execution_count": 23,
   "id": "7f8f6d9f-2c31-403c-a9ef-ee17ea1e03fe",
   "metadata": {},
   "outputs": [
    {
     "data": {
      "text/plain": [
       "torch.Size([3])"
      ]
     },
     "execution_count": 23,
     "metadata": {},
     "output_type": "execute_result"
    }
   ],
   "source": [
    "x.shape"
   ]
  },
  {
   "cell_type": "code",
   "execution_count": 7,
   "id": "9aab55a2-3982-4ae8-82a3-f60b3d84afa6",
   "metadata": {},
   "outputs": [
    {
     "data": {
      "text/plain": [
       "tensor([1.0000, 1.4000, 1.8000, 2.2000, 2.6000, 3.0000, 3.4000, 3.8000, 4.2000,\n",
       "        4.6000])"
      ]
     },
     "execution_count": 7,
     "metadata": {},
     "output_type": "execute_result"
    }
   ],
   "source": [
    "torch.arange(1,5,0.4)"
   ]
  },
  {
   "cell_type": "markdown",
   "id": "0d13f1a9-a1d1-44f8-82d0-998e306dcb88",
   "metadata": {},
   "source": [
    "**Tensor操作**<br>\n",
    "Pytorch操作inplace版本都有后缀`_`"
   ]
  },
  {
   "cell_type": "code",
   "execution_count": 10,
   "id": "da3b1db4-868e-4fb6-8d70-996644751887",
   "metadata": {},
   "outputs": [
    {
     "name": "stdout",
     "output_type": "stream",
     "text": [
      "tensor([[1.0828, 1.8285, 1.4950],\n",
      "        [1.5632, 1.8932, 1.8061],\n",
      "        [1.1889, 1.7045, 1.4556],\n",
      "        [1.4150, 1.6735, 1.9975],\n",
      "        [1.1714, 1.0412, 1.3015]])\n",
      "tensor([[1.0828, 1.8285, 1.4950],\n",
      "        [1.5632, 1.8932, 1.8061],\n",
      "        [1.1889, 1.7045, 1.4556],\n",
      "        [1.4150, 1.6735, 1.9975],\n",
      "        [1.1714, 1.0412, 1.3015]])\n",
      "tensor([[1.0828, 1.8285, 1.4950],\n",
      "        [1.5632, 1.8932, 1.8061],\n",
      "        [1.1889, 1.7045, 1.4556],\n",
      "        [1.4150, 1.6735, 1.9975],\n",
      "        [1.1714, 1.0412, 1.3015]])\n"
     ]
    }
   ],
   "source": [
    "x = torch.ones(5,3)\n",
    "y = torch.rand(5,3)\n",
    "print(x+y)\n",
    "print(torch.add(x,y))\n",
    "## inplace\n",
    "y.add_(x)\n",
    "print(y)"
   ]
  },
  {
   "cell_type": "code",
   "execution_count": 13,
   "id": "3653b941-7a07-4b92-b091-5f100cf09f8b",
   "metadata": {},
   "outputs": [
    {
     "data": {
      "text/plain": [
       "tensor([[6.4213, 8.1409, 8.0557],\n",
       "        [6.4213, 8.1409, 8.0557],\n",
       "        [6.4213, 8.1409, 8.0557]])"
      ]
     },
     "execution_count": 13,
     "metadata": {},
     "output_type": "execute_result"
    }
   ],
   "source": [
    "# 转置，矩阵乘法\n",
    "x.T@y"
   ]
  },
  {
   "cell_type": "markdown",
   "id": "7c60cf16-cbce-4fb2-82cd-8a9fa316476a",
   "metadata": {},
   "source": [
    "**索引**  \n",
    "索引的结果与原数据`共享内存`，修改一个另一个也会修改  \n",
    "不开辟新内存"
   ]
  },
  {
   "cell_type": "markdown",
   "id": "2d65397a-f47e-48e0-b202-e09624158075",
   "metadata": {},
   "source": [
    "测试：  \n",
    "`y += 1`与`y = y+1`的区别"
   ]
  },
  {
   "cell_type": "code",
   "execution_count": 62,
   "id": "508b04b2-b3ea-4a65-b266-06ce52450d73",
   "metadata": {},
   "outputs": [
    {
     "data": {
      "text/plain": [
       "tensor([[0.3294, 0.2063, 0.8826, 0.2798],\n",
       "        [0.4422, 0.6122, 0.5185, 0.6957],\n",
       "        [0.2189, 0.4358, 0.2512, 0.5488],\n",
       "        [0.4404, 0.6838, 0.0995, 0.2723],\n",
       "        [0.6069, 0.5976, 0.9891, 0.6902]])"
      ]
     },
     "execution_count": 62,
     "metadata": {},
     "output_type": "execute_result"
    }
   ],
   "source": [
    "x = torch.rand(5,4)\n",
    "x"
   ]
  },
  {
   "cell_type": "code",
   "execution_count": 67,
   "id": "f5315191-fcf0-4f6f-ab95-cdf1493a9d17",
   "metadata": {},
   "outputs": [
    {
     "name": "stdout",
     "output_type": "stream",
     "text": [
      "y: tensor([1.3294, 1.2063, 1.8826, 1.2798])\n",
      "t: tensor([0.4422, 0.6122, 0.5185, 0.6957])\n"
     ]
    }
   ],
   "source": [
    "y = x[0, :]\n",
    "t = x[1, :]\n",
    "print('y:',y)\n",
    "print('t:',t)"
   ]
  },
  {
   "cell_type": "code",
   "execution_count": 64,
   "id": "691f7f06-1cd9-4ada-bbbf-98c82ea46d8d",
   "metadata": {},
   "outputs": [],
   "source": [
    "y += 1\n",
    "t = t+1"
   ]
  },
  {
   "cell_type": "code",
   "execution_count": 65,
   "id": "bf465290-a855-4555-90c7-9b777065fb47",
   "metadata": {},
   "outputs": [
    {
     "name": "stdout",
     "output_type": "stream",
     "text": [
      "y: tensor([1.3294, 1.2063, 1.8826, 1.2798])\n",
      "t: tensor([1.4422, 1.6122, 1.5185, 1.6957])\n"
     ]
    }
   ],
   "source": [
    "print('y:',y)\n",
    "print('t:',t)"
   ]
  },
  {
   "cell_type": "code",
   "execution_count": 66,
   "id": "82826e25-91d7-4294-8cd4-33847a7fd7dc",
   "metadata": {},
   "outputs": [
    {
     "name": "stdout",
     "output_type": "stream",
     "text": [
      "tensor([[1.3294, 1.2063, 1.8826, 1.2798],\n",
      "        [0.4422, 0.6122, 0.5185, 0.6957],\n",
      "        [0.2189, 0.4358, 0.2512, 0.5488],\n",
      "        [0.4404, 0.6838, 0.0995, 0.2723],\n",
      "        [0.6069, 0.5976, 0.9891, 0.6902]])\n"
     ]
    }
   ],
   "source": [
    "print(x)"
   ]
  },
  {
   "cell_type": "markdown",
   "id": "7ded2344-4961-421b-af81-18dea6924fb2",
   "metadata": {},
   "source": [
    "上述实验说明，t=t+1为重新赋值变量，不再与x共享内存，因此x的第二行没有改变  \n",
    "如何将t指定到原来内存？  "
   ]
  },
  {
   "cell_type": "code",
   "execution_count": 68,
   "id": "ffa9f6b0-7699-4d5a-b46c-31f3292d0c06",
   "metadata": {},
   "outputs": [
    {
     "name": "stdout",
     "output_type": "stream",
     "text": [
      "tensor([[1.3294, 1.2063, 1.8826, 1.2798],\n",
      "        [1.4422, 1.6122, 1.5185, 1.6957],\n",
      "        [0.2189, 0.4358, 0.2512, 0.5488],\n",
      "        [0.4404, 0.6838, 0.0995, 0.2723],\n",
      "        [0.6069, 0.5976, 0.9891, 0.6902]])\n"
     ]
    }
   ],
   "source": [
    "t = x[1, :]\n",
    "t[:] = t+1\n",
    "print(x)"
   ]
  },
  {
   "cell_type": "markdown",
   "id": "7ed21ee0-1b87-4739-a859-922f45575c30",
   "metadata": {},
   "source": [
    "**改变形状**  \n",
    "`view`:共享内存  \n",
    "`reshape`:不共享内存(不保证返回拷贝，不推荐使用)"
   ]
  },
  {
   "cell_type": "code",
   "execution_count": 58,
   "id": "e7acd607-ab05-4576-b9e2-a7d271a558d5",
   "metadata": {},
   "outputs": [
    {
     "name": "stdout",
     "output_type": "stream",
     "text": [
      "x: tensor([[1.4679, 1.8642, 1.7591, 1.3795],\n",
      "        [0.2949, 0.1147, 0.0117, 0.1598],\n",
      "        [0.4098, 0.4872, 0.4149, 0.9244],\n",
      "        [0.2772, 0.6646, 0.7032, 0.0260],\n",
      "        [0.3342, 0.2727, 0.1458, 0.5806]])\n",
      "size: torch.Size([5, 4])\n",
      "torch.Size([20])\n"
     ]
    }
   ],
   "source": [
    "print('x:',x)\n",
    "print('size:',x.size())\n",
    "y = x.view(20)\n",
    "print(y.size())"
   ]
  },
  {
   "cell_type": "code",
   "execution_count": 59,
   "id": "ae78bf9c-1bbf-4b4a-9b32-32a7babbe3d6",
   "metadata": {},
   "outputs": [
    {
     "data": {
      "text/plain": [
       "tensor([1.4679, 1.8642, 1.7591, 1.3795, 0.2949, 0.1147, 0.0117, 0.1598, 0.4098,\n",
       "        0.4872, 0.4149, 0.9244, 0.2772, 0.6646, 0.7032, 0.0260, 0.3342, 0.2727,\n",
       "        0.1458, 0.5806])"
      ]
     },
     "execution_count": 59,
     "metadata": {},
     "output_type": "execute_result"
    }
   ],
   "source": [
    "y"
   ]
  },
  {
   "cell_type": "code",
   "execution_count": 60,
   "id": "2a612b7d-3299-4965-ab69-bd0a3b9dff6d",
   "metadata": {},
   "outputs": [
    {
     "data": {
      "text/plain": [
       "tensor([[1.4679, 1.8642, 1.7591, 1.3795, 0.2949],\n",
       "        [0.1147, 0.0117, 0.1598, 0.4098, 0.4872],\n",
       "        [0.4149, 0.9244, 0.2772, 0.6646, 0.7032],\n",
       "        [0.0260, 0.3342, 0.2727, 0.1458, 0.5806]])"
      ]
     },
     "execution_count": 60,
     "metadata": {},
     "output_type": "execute_result"
    }
   ],
   "source": [
    "x.view(-1,5)"
   ]
  },
  {
   "cell_type": "code",
   "execution_count": 61,
   "id": "5b9d6443-df83-42fc-96c5-8d6a2475dbd7",
   "metadata": {},
   "outputs": [
    {
     "name": "stdout",
     "output_type": "stream",
     "text": [
      "tensor([[ 0.4679,  0.8642,  0.7591,  0.3795],\n",
      "        [-0.7051, -0.8853, -0.9883, -0.8402],\n",
      "        [-0.5902, -0.5128, -0.5851, -0.0756],\n",
      "        [-0.7228, -0.3354, -0.2968, -0.9740],\n",
      "        [-0.6658, -0.7273, -0.8542, -0.4194]])\n",
      "tensor([1.4679, 1.8642, 1.7591, 1.3795, 0.2949, 0.1147, 0.0117, 0.1598, 0.4098,\n",
      "        0.4872, 0.4149, 0.9244, 0.2772, 0.6646, 0.7032, 0.0260, 0.3342, 0.2727,\n",
      "        0.1458, 0.5806])\n"
     ]
    }
   ],
   "source": [
    "## 返回拷贝的方法\n",
    "x_cp = x.clone().view(20)\n",
    "x-=1\n",
    "print(x)\n",
    "print(x_cp)"
   ]
  },
  {
   "cell_type": "markdown",
   "id": "ee5429d1-3250-449f-80e2-0e71df1e8add",
   "metadata": {},
   "source": [
    "**广播（同numpy）**PASS"
   ]
  },
  {
   "cell_type": "markdown",
   "id": "5d878836-cd77-4c10-ad3f-4d62630ef858",
   "metadata": {},
   "source": [
    "**Tensor与Numpy的相互转换**"
   ]
  },
  {
   "cell_type": "markdown",
   "id": "35475f31-bb26-4569-8a7d-3640bcaf2628",
   "metadata": {},
   "source": [
    "1 Tensor转Numpy"
   ]
  },
  {
   "cell_type": "code",
   "execution_count": 70,
   "id": "62b0598a-9200-4387-9fd6-27c8de4e081f",
   "metadata": {},
   "outputs": [
    {
     "data": {
      "text/plain": [
       "array([[0.37617725, 0.16744131, 0.30691737, 0.53862816],\n",
       "       [0.80388737, 0.23874283, 0.49951774, 0.06150782],\n",
       "       [0.71596086, 0.38168848, 0.20470095, 0.851902  ],\n",
       "       [0.26940095, 0.73361844, 0.913117  , 0.90962875],\n",
       "       [0.8810355 , 0.07751149, 0.09076309, 0.08274001]], dtype=float32)"
      ]
     },
     "execution_count": 70,
     "metadata": {},
     "output_type": "execute_result"
    }
   ],
   "source": [
    "a = torch.rand(5,4)\n",
    "b = a.numpy()\n",
    "b"
   ]
  },
  {
   "cell_type": "markdown",
   "id": "0221050f-ace2-4ec6-b549-8d44b4c69512",
   "metadata": {},
   "source": [
    "2 Numpy转Tensor"
   ]
  },
  {
   "cell_type": "code",
   "execution_count": 77,
   "id": "8d124cc2-7cee-4c3a-8993-4912303112a0",
   "metadata": {},
   "outputs": [
    {
     "name": "stdout",
     "output_type": "stream",
     "text": [
      "tensor([[0.0607, 0.7670, 0.0133, 0.6300],\n",
      "        [0.4767, 0.0523, 0.4598, 0.0256],\n",
      "        [0.5335, 0.3378, 0.3320, 0.7147],\n",
      "        [0.7574, 0.6429, 0.3386, 0.7616],\n",
      "        [0.5471, 0.0934, 0.3094, 0.1089]], dtype=torch.float64)\n"
     ]
    }
   ],
   "source": [
    "import numpy as np\n",
    "a = np.random.rand(5,4)\n",
    "b = torch.from_numpy(a)\n",
    "print(b)"
   ]
  },
  {
   "cell_type": "code",
   "execution_count": 81,
   "id": "a46ae2f0-cad1-4079-ae01-34d34e5642dd",
   "metadata": {},
   "outputs": [],
   "source": [
    "# 此方法不共享内存，速度慢\n",
    "c = torch.tensor(a)"
   ]
  },
  {
   "cell_type": "code",
   "execution_count": 82,
   "id": "1b2729d8-7cdc-4025-9f45-ad271dbab29f",
   "metadata": {},
   "outputs": [
    {
     "data": {
      "text/plain": [
       "tensor([[0.0607, 0.7670, 0.0133, 0.6300],\n",
       "        [0.4767, 0.0523, 0.4598, 0.0256],\n",
       "        [0.5335, 0.3378, 0.3320, 0.7147],\n",
       "        [0.7574, 0.6429, 0.3386, 0.7616],\n",
       "        [0.5471, 0.0934, 0.3094, 0.1089]], dtype=torch.float64)"
      ]
     },
     "execution_count": 82,
     "metadata": {},
     "output_type": "execute_result"
    }
   ],
   "source": [
    "c"
   ]
  },
  {
   "cell_type": "markdown",
   "id": "2d5bd604-b6aa-4fae-b71f-d2df2e958919",
   "metadata": {},
   "source": [
    "**自动求梯度**"
   ]
  },
  {
   "cell_type": "code",
   "execution_count": 3,
   "id": "5b1852c3-e164-4b17-8b6c-5872f37067c3",
   "metadata": {},
   "outputs": [],
   "source": [
    "x = torch.ones(2,2,requires_grad=True)"
   ]
  },
  {
   "cell_type": "code",
   "execution_count": 4,
   "id": "5ed25a37-b54c-42cd-abfd-f66da09bd410",
   "metadata": {},
   "outputs": [
    {
     "data": {
      "text/plain": [
       "tensor([[1., 1.],\n",
       "        [1., 1.]], requires_grad=True)"
      ]
     },
     "execution_count": 4,
     "metadata": {},
     "output_type": "execute_result"
    }
   ],
   "source": [
    "x"
   ]
  },
  {
   "cell_type": "code",
   "execution_count": 9,
   "id": "b8d05e7f-4cd6-430a-8983-a25a371c2a58",
   "metadata": {},
   "outputs": [
    {
     "name": "stdout",
     "output_type": "stream",
     "text": [
      "None\n"
     ]
    }
   ],
   "source": [
    "print(x.grad_fn)"
   ]
  },
  {
   "cell_type": "code",
   "execution_count": 21,
   "id": "a6f9e05f-1a87-4c64-8720-d5fdc81b6193",
   "metadata": {},
   "outputs": [
    {
     "data": {
      "text/plain": [
       "tensor([[3., 3.],\n",
       "        [3., 3.]], grad_fn=<AddBackward0>)"
      ]
     },
     "execution_count": 21,
     "metadata": {},
     "output_type": "execute_result"
    }
   ],
   "source": [
    "y = x+2\n",
    "y"
   ]
  },
  {
   "cell_type": "code",
   "execution_count": 32,
   "id": "e47043ce-39f4-4c14-8af5-fe76d48547b3",
   "metadata": {},
   "outputs": [
    {
     "name": "stdout",
     "output_type": "stream",
     "text": [
      "tensor([[6., 6.],\n",
      "        [6., 6.]])\n"
     ]
    }
   ],
   "source": [
    "y.backward(torch.ones(2,2))\n",
    "print(x.grad)\n"
   ]
  },
  {
   "cell_type": "code",
   "execution_count": 33,
   "id": "62650003-552b-41e2-9f3f-d76733d3849e",
   "metadata": {},
   "outputs": [
    {
     "name": "stdout",
     "output_type": "stream",
     "text": [
      "tensor([[8., 8.],\n",
      "        [8., 8.]])\n"
     ]
    }
   ],
   "source": [
    "z = 2*x+5\n",
    "z.backward(torch.ones(2,2))\n",
    "print(x.grad)"
   ]
  },
  {
   "cell_type": "markdown",
   "id": "093b95f7-3790-48dd-a973-162d58189228",
   "metadata": {},
   "source": [
    "*grad在反向传播过程中是累加的(accumulated)，这意味着每一次运行反向传播，梯度都会累加之前的梯度，所以一般在反向传播之前需把梯度清零。*"
   ]
  },
  {
   "cell_type": "code",
   "execution_count": 35,
   "id": "f7b8e539-fecd-4a06-bb37-70568d813e1f",
   "metadata": {},
   "outputs": [
    {
     "name": "stdout",
     "output_type": "stream",
     "text": [
      "tensor([[2., 2.],\n",
      "        [2., 2.]])\n"
     ]
    }
   ],
   "source": [
    "z = 2*x+5\n",
    "x.grad.data.zero_()\n",
    "z.backward(torch.ones(2,2))\n",
    "print(x.grad)"
   ]
  },
  {
   "cell_type": "markdown",
   "id": "dc6b9b68-c3c3-4b9a-a796-afe8f72aee6b",
   "metadata": {},
   "source": [
    "在y.backward()时，如果y是标量，则不需要为backward()传入任何参数；否则，需要传入一个与y同形的Tensor"
   ]
  },
  {
   "cell_type": "code",
   "execution_count": null,
   "id": "bc93dd21-e583-4f1d-a3f5-11827672877b",
   "metadata": {},
   "outputs": [],
   "source": []
  }
 ],
 "metadata": {
  "kernelspec": {
   "display_name": "Python 3 (ipykernel)",
   "language": "python",
   "name": "python3"
  },
  "language_info": {
   "codemirror_mode": {
    "name": "ipython",
    "version": 3
   },
   "file_extension": ".py",
   "mimetype": "text/x-python",
   "name": "python",
   "nbconvert_exporter": "python",
   "pygments_lexer": "ipython3",
   "version": "3.8.8"
  }
 },
 "nbformat": 4,
 "nbformat_minor": 5
}
