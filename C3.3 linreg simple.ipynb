{
 "cells": [
  {
   "cell_type": "markdown",
   "id": "e5829fd8-50ef-4f33-90ab-209e299eba17",
   "metadata": {},
   "source": [
    "# simple linear regression "
   ]
  },
  {
   "cell_type": "markdown",
   "id": "ee05cb2a-3723-41f4-b7b9-511318f7dc56",
   "metadata": {},
   "source": [
    "#### 生成数据集"
   ]
  },
  {
   "cell_type": "code",
   "execution_count": 2,
   "id": "c747696e-f2c2-4bf3-a99b-aeea495b0922",
   "metadata": {},
   "outputs": [],
   "source": [
    "import torch\n",
    "import numpy as np"
   ]
  },
  {
   "cell_type": "code",
   "execution_count": 3,
   "id": "84997e03-93e2-4f06-8bd6-f4ecfd8a8e90",
   "metadata": {},
   "outputs": [],
   "source": [
    "num_inputs = 2\n",
    "num_examples = 1000\n",
    "true_w = [2, -3.4]\n",
    "true_b = 4.2\n",
    "features = torch.tensor(np.random.normal(0,1,(num_examples,num_inputs)), dtype=torch.float)\n",
    "labels = true_w[0] * features[:, 0] + true_w[1] * features[:, 1] + true_b\n",
    "labels += torch.tensor(np.random.normal(0, 0.01, size=labels.size()), dtype=torch.float)"
   ]
  },
  {
   "cell_type": "markdown",
   "id": "6022cb59-127c-4300-bc04-9d3508ff8f5f",
   "metadata": {},
   "source": [
    "#### 读取数据\n",
    "使用Pytorch提供的包\n"
   ]
  },
  {
   "cell_type": "code",
   "execution_count": 9,
   "id": "14436bca-c15e-4f1d-9ffb-f8322be4dd10",
   "metadata": {},
   "outputs": [],
   "source": [
    "import torch.utils.data as Data\n",
    "batch_size = 5\n",
    "# 将特征与目标变量组合\n",
    "dataset = Data.TensorDataset(features, labels)\n",
    "# 随机读取小批量\n",
    "# 生成一个迭代器，每次迭代返回一批量数据\n",
    "data_iter = Data.DataLoader(dataset, batch_size,shuffle=True)"
   ]
  },
  {
   "cell_type": "code",
   "execution_count": 11,
   "id": "fd472e7e-7a1d-4e70-866e-29b78b4c26e6",
   "metadata": {},
   "outputs": [
    {
     "name": "stdout",
     "output_type": "stream",
     "text": [
      "tensor([[-0.1343, -0.7588],\n",
      "        [ 0.9450, -0.9041],\n",
      "        [ 0.4244,  0.0981],\n",
      "        [ 0.2486, -1.6493],\n",
      "        [ 0.7992,  0.2572]]) tensor([ 6.5128,  9.1495,  4.7325, 10.3072,  4.9362])\n"
     ]
    }
   ],
   "source": [
    "# test\n",
    "for x, y in data_iter:\n",
    "    print(x, y)\n",
    "    break"
   ]
  },
  {
   "cell_type": "markdown",
   "id": "7dd70fe6-15c7-48f8-aed9-315e1757e9c7",
   "metadata": {},
   "source": [
    "#### 定义模型\n",
    "利用torch.nn构建模型"
   ]
  },
  {
   "cell_type": "code",
   "execution_count": 13,
   "id": "68a36663-85a3-433e-b963-0045f9e4eb4f",
   "metadata": {},
   "outputs": [
    {
     "name": "stdout",
     "output_type": "stream",
     "text": [
      "LinearNet(\n",
      "  (linear): Linear(in_features=2, out_features=1, bias=True)\n",
      ")\n"
     ]
    }
   ],
   "source": [
    "import torch.nn as nn\n",
    "class LinearNet(nn.Module):\n",
    "    def __init__(self, n_feature):\n",
    "        super().__init__()\n",
    "        self.linear = nn.Linear(n_feature, 1)\n",
    "    def forward(self, x):\n",
    "        y = self.linear(x)\n",
    "        return y\n",
    "    \n",
    "net = LinearNet(num_inputs)\n",
    "print(net)"
   ]
  },
  {
   "cell_type": "markdown",
   "id": "1ec1cca4-7162-4a9a-8e64-0cc1b68cb453",
   "metadata": {},
   "source": [
    "利用nn.Sequential搭建模型"
   ]
  },
  {
   "cell_type": "code",
   "execution_count": 15,
   "id": "4279acad-684c-4bd2-bee2-8080e5ee470a",
   "metadata": {},
   "outputs": [
    {
     "name": "stdout",
     "output_type": "stream",
     "text": [
      "Sequential(\n",
      "  (linear): Linear(in_features=2, out_features=1, bias=True)\n",
      ")\n"
     ]
    }
   ],
   "source": [
    "# 1\n",
    "net = nn.Sequential(\n",
    "    nn.Linear(num_inputs, 1)\n",
    ")\n",
    "\n",
    "# 2\n",
    "net = nn.Sequential()\n",
    "net.add_module('linear', nn.Linear(num_inputs, 1))\n",
    "# ...\n",
    "\n",
    "# 3\n",
    "from collections import OrderedDict\n",
    "net = nn.Sequential(OrderedDict([\n",
    "            ('linear', nn.Linear(num_inputs, 1))\n",
    "                                ]))\n",
    "print(net)"
   ]
  },
  {
   "cell_type": "markdown",
   "id": "95df9581-3da3-40cc-b8f3-f59448ef712a",
   "metadata": {},
   "source": [
    "**查看模型的可学习参数**"
   ]
  },
  {
   "cell_type": "code",
   "execution_count": 16,
   "id": "9251a42b-a7de-4f10-bb95-6ad5cd6ba5db",
   "metadata": {},
   "outputs": [
    {
     "name": "stdout",
     "output_type": "stream",
     "text": [
      "Parameter containing:\n",
      "tensor([[-0.5484,  0.0521]], requires_grad=True)\n",
      "Parameter containing:\n",
      "tensor([-0.3587], requires_grad=True)\n"
     ]
    }
   ],
   "source": [
    "for param in net.parameters():\n",
    "    print(param)"
   ]
  },
  {
   "cell_type": "markdown",
   "id": "a30a58e0-6195-44a5-a1e4-b1fd378e86f1",
   "metadata": {},
   "source": [
    "torch.nn仅支持batch的样本输入，而不支持单个样本输入，单个样本需要增加维度"
   ]
  },
  {
   "cell_type": "markdown",
   "id": "8dcb2f96-3915-4f28-b8ee-1af6a1f44212",
   "metadata": {},
   "source": [
    "**初始化模型参数**"
   ]
  },
  {
   "cell_type": "markdown",
   "id": "026ecead-6f6f-4f79-a586-4464abe832fa",
   "metadata": {},
   "source": []
  },
  {
   "cell_type": "code",
   "execution_count": 18,
   "id": "e894c0ec-9087-4af8-8c83-5484a71a74a7",
   "metadata": {},
   "outputs": [
    {
     "data": {
      "text/plain": [
       "Parameter containing:\n",
       "tensor([0.], requires_grad=True)"
      ]
     },
     "execution_count": 18,
     "metadata": {},
     "output_type": "execute_result"
    }
   ],
   "source": [
    "from torch.nn import init\n",
    "init.normal_(net[0].weight, mean=0,std=0.01)\n",
    "init.constant_(net[0].bias, val=0)"
   ]
  },
  {
   "attachments": {
    "efae5990-e777-44bd-8e43-cd054efc6ab4.png": {
     "image/png": "[encoded data removed]"
    }
   },
   "cell_type": "markdown",
   "id": "beaf77b7-fafd-4518-8db6-f74027416489",
   "metadata": {},
   "source": [
    "![image.png](attachment:efae5990-e777-44bd-8e43-cd054efc6ab4.png)"
   ]
  },
  {
   "cell_type": "markdown",
   "id": "bfe97bd7-b038-4a1c-96a6-cbc1c895a39e",
   "metadata": {},
   "source": [
    "#### 定义损失函数"
   ]
  },
  {
   "cell_type": "code",
   "execution_count": 19,
   "id": "1b1af0bf-c9e9-4b62-97f5-643c53576482",
   "metadata": {},
   "outputs": [],
   "source": [
    "loss = nn.MSELoss()"
   ]
  },
  {
   "cell_type": "code",
   "execution_count": 20,
   "id": "1e1054ca-74a9-4f2d-8d9e-c503c61f159b",
   "metadata": {},
   "outputs": [
    {
     "name": "stdout",
     "output_type": "stream",
     "text": [
      "SGD (\n",
      "Parameter Group 0\n",
      "    dampening: 0\n",
      "    lr: 0.03\n",
      "    momentum: 0\n",
      "    nesterov: False\n",
      "    weight_decay: 0\n",
      ")\n"
     ]
    }
   ],
   "source": [
    "#### 定义优化算法\n",
    "import torch.optim as optim\n",
    "optimizer = optim.SGD(net.parameters(), lr=0.03)\n",
    "print(optimizer)"
   ]
  },
  {
   "cell_type": "markdown",
   "id": "9bfc6bc3-90c6-4bb3-8450-d67a603e34ee",
   "metadata": {},
   "source": [
    "#### 训练模型"
   ]
  },
  {
   "cell_type": "code",
   "execution_count": 22,
   "id": "c5d8566c-f3cd-4470-86b2-5808bb01cc86",
   "metadata": {},
   "outputs": [
    {
     "name": "stdout",
     "output_type": "stream",
     "text": [
      "epoch 1, loss: 0.000069\n",
      "epoch 2, loss: 0.000038\n",
      "epoch 3, loss: 0.000061\n"
     ]
    }
   ],
   "source": [
    "num_epochs = 3\n",
    "for epoch in range(1, num_epochs+1):\n",
    "    for x, y in data_iter:\n",
    "        output = net(x)\n",
    "        l = loss(output, y.view(-1,1))\n",
    "        optimizer.zero_grad()\n",
    "        l.backward()\n",
    "        optimizer.step()\n",
    "    print('epoch %d, loss: %f' % (epoch, l.item()))"
   ]
  },
  {
   "cell_type": "code",
   "execution_count": null,
   "id": "5093cb44-8e9f-4970-ae38-34bc3834286e",
   "metadata": {},
   "outputs": [],
   "source": []
  }
 ],
 "metadata": {
  "kernelspec": {
   "display_name": "Python 3 (ipykernel)",
   "language": "python",
   "name": "python3"
  },
  "language_info": {
   "codemirror_mode": {
    "name": "ipython",
    "version": 3
   },
   "file_extension": ".py",
   "mimetype": "text/x-python",
   "name": "python",
   "nbconvert_exporter": "python",
   "pygments_lexer": "ipython3",
   "version": "3.8.8"
  }
 },
 "nbformat": 4,
 "nbformat_minor": 5
}
