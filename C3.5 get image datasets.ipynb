{
 "cells": [
  {
   "cell_type": "code",
   "execution_count": 2,
   "id": "7b96293c-0591-4521-abea-efa8d385dba5",
   "metadata": {},
   "outputs": [],
   "source": [
    "import matplotlib.pyplot as plt\n",
    "import torch\n",
    "import torchvision\n",
    "import torchvision.transforms as transforms\n",
    "import time\n",
    "import sys\n",
    "import numpy as np\n",
    "%matplotlib widget"
   ]
  },
  {
   "cell_type": "markdown",
   "id": "99568345-4bfb-456f-918d-50f8eb564e29",
   "metadata": {},
   "source": [
    "#### 获取FashionMNIST数据集"
   ]
  },
  {
   "cell_type": "code",
   "execution_count": 5,
   "id": "01b91f44-1b9c-4891-9f44-9ced7e7b4228",
   "metadata": {},
   "outputs": [],
   "source": [
    "## torchvision.datasets.FashionMNIST参数意义\n",
    "# 与其他torchvision.datasets.XXX数据集函数的参数意义相同\n",
    "# root是datasets的位置；\n",
    "# train如果为True则表示加载训练集，否则加载验证集；\n",
    "# download如果为True表示如果root路径下没有数据就将数据下载到该路径下\n",
    "# transform 接收一个函数对原本的PIL格式的（数据类型uint8）图片数据进行转换处理\n",
    "mnist_train = torchvision.datasets.FashionMNIST(root='./Datasets/FashionMNIST',train=True,\n",
    "                                                download=True,transform=transforms.ToTensor())\n",
    "mnist_test = torchvision.datasets.FashionMNIST(root='./Datasets/FashionMNIST',train=False,\n",
    "                                               download=True,transform=transforms.ToTensor())"
   ]
  },
  {
   "cell_type": "markdown",
   "id": "c9a6c460-4cd8-4d56-b9bf-f0ffd6050320",
   "metadata": {},
   "source": [
    "`transforms.ToTensor`函数的用处：<br>\n",
    "1. 将uint8型的数据转变为float32的范围为[0,1]的浮点数\n",
    "2. 如果不进行转换返回的数据为PIL图片"
   ]
  },
  {
   "cell_type": "code",
   "execution_count": 7,
   "id": "6a8d2c88-5c05-4c19-917f-0252985377d3",
   "metadata": {},
   "outputs": [
    {
     "name": "stdout",
     "output_type": "stream",
     "text": [
      "<class 'torchvision.datasets.mnist.FashionMNIST'>\n",
      "60000 10000\n"
     ]
    }
   ],
   "source": [
    "print(type(mnist_train))\n",
    "print(len(mnist_train), len(mnist_test))"
   ]
  },
  {
   "cell_type": "markdown",
   "id": "9aa4d919-0851-4a77-a9d6-19071143d2d7",
   "metadata": {},
   "source": [
    "**访问样本**"
   ]
  },
  {
   "cell_type": "code",
   "execution_count": 8,
   "id": "b43a472f-4f9e-4ca3-bca3-115e8c59ae7f",
   "metadata": {},
   "outputs": [],
   "source": [
    "feature, label = mnist_train[0]"
   ]
  },
  {
   "cell_type": "code",
   "execution_count": 10,
   "id": "7c7b8561-2384-4dc4-8839-38ee9ed90305",
   "metadata": {},
   "outputs": [
    {
     "data": {
      "text/plain": [
       "torch.Size([1, 28, 28])"
      ]
     },
     "execution_count": 10,
     "metadata": {},
     "output_type": "execute_result"
    }
   ],
   "source": [
    "feature.shape"
   ]
  },
  {
   "cell_type": "code",
   "execution_count": 20,
   "id": "701cc153-0150-4a6c-9b5a-4fd4caf93c96",
   "metadata": {},
   "outputs": [
    {
     "name": "stdout",
     "output_type": "stream",
     "text": [
      "<class 'int'>\n"
     ]
    },
    {
     "data": {
      "text/plain": [
       "9"
      ]
     },
     "execution_count": 20,
     "metadata": {},
     "output_type": "execute_result"
    }
   ],
   "source": [
    "print(type(label))\n",
    "label"
   ]
  },
  {
   "cell_type": "markdown",
   "id": "7db97a01-463d-4ec6-ad3a-fff16c102bd3",
   "metadata": {},
   "source": [
    "可知每一个样本由一个`tensor型`的feature和`int型`的label组成<br>\n",
    "注意！：<br>\n",
    "feature的尺寸是$(C\\times H\\times W)$而不是$(H\\times W\\times C)$"
   ]
  },
  {
   "cell_type": "markdown",
   "id": "64ea66c7-e3c8-4bdd-9383-adf6b9769795",
   "metadata": {},
   "source": [
    "**将label映射对应类别**<br>\n",
    "0-9 --> 't-shirt','trouser',..."
   ]
  },
  {
   "cell_type": "code",
   "execution_count": 23,
   "id": "c54c5f51-a68f-42c6-b446-393bb08cd8a7",
   "metadata": {},
   "outputs": [],
   "source": [
    "def get_fashion_mnist_labels(labels):\n",
    "    text_labels = ['t-shirt', 'trouser', 'pullover', 'dress', 'coat',\n",
    "                   'sandal', 'shirt', 'sneaker', 'bag', 'ankle boot']\n",
    "    return [text_labels[int(i)] for i in labels]"
   ]
  },
  {
   "cell_type": "code",
   "execution_count": 26,
   "id": "7f6187e8-a998-4605-ad75-3024bbe61a22",
   "metadata": {},
   "outputs": [],
   "source": [
    "def show_fashion_mnist(images, labels):\n",
    "    # 这里的_表示忽略（不使用）的变量\n",
    "    _, figs = plt.subplots(1, len(images), figsize=(12, 12))\n",
    "    for f, img, lbl in zip(figs, images, labels):\n",
    "        f.imshow(img.view((28, 28)).numpy())\n",
    "        f.set_title(lbl)\n",
    "        # 不显示xy坐标轴\n",
    "        f.axes.get_xaxis().set_visible(False)\n",
    "        f.axes.get_yaxis().set_visible(False)\n",
    "    plt.show()"
   ]
  },
  {
   "cell_type": "code",
   "execution_count": 28,
   "id": "d81b5ccb-a9f1-4e43-9df7-5a42d91372d3",
   "metadata": {},
   "outputs": [
    {
     "data": {
      "application/vnd.jupyter.widget-view+json": {
       "model_id": "a29f34032bdb4f63a88d76431d4bb0e7",
       "version_major": 2,
       "version_minor": 0
      },
      "text/plain": [
       "Canvas(toolbar=Toolbar(toolitems=[('Home', 'Reset original view', 'home', 'home'), ('Back', 'Back to previous …"
      ]
     },
     "metadata": {},
     "output_type": "display_data"
    }
   ],
   "source": [
    "# test\n",
    "x = [mnist_train[i][0] for i in range(10)]\n",
    "y = [mnist_train[i][1] for i in range(10)]\n",
    "show_fashion_mnist(x,get_fashion_mnist_labels(y))"
   ]
  },
  {
   "cell_type": "markdown",
   "id": "630cc286-136e-4060-bce8-98f0de18a725",
   "metadata": {},
   "source": [
    "#### 读取小批量数据"
   ]
  },
  {
   "cell_type": "markdown",
   "id": "35f83ed4-90bd-418d-9dd0-607138faa8c2",
   "metadata": {},
   "source": [
    "**多进程读取数据**"
   ]
  },
  {
   "cell_type": "code",
   "execution_count": 31,
   "id": "2bb25f0c-06ee-4821-9e97-84ab953478f5",
   "metadata": {},
   "outputs": [
    {
     "data": {
      "text/plain": [
       "True"
      ]
     },
     "execution_count": 31,
     "metadata": {},
     "output_type": "execute_result"
    }
   ],
   "source": [
    "sys.platform.startswith('win')"
   ]
  },
  {
   "cell_type": "code",
   "execution_count": 50,
   "id": "4dc63060-cda4-475e-aec4-2ce7652827e4",
   "metadata": {},
   "outputs": [],
   "source": [
    "batch_size = 256\n",
    "train_iter = torch.utils.data.DataLoader(mnist_train, batch_size=batch_size, shuffle=True, num_workers=4)\n",
    "test_iter = torch.utils.data.DataLoader(mnist_test, batch_size=batch_size, shuffle=True, num_workers=4)"
   ]
  },
  {
   "cell_type": "code",
   "execution_count": 51,
   "id": "2acca406-c89f-4c5b-8aef-022ec75facdb",
   "metadata": {},
   "outputs": [
    {
     "name": "stdout",
     "output_type": "stream",
     "text": [
      "7.22 sec\n"
     ]
    }
   ],
   "source": [
    "start = time.time()\n",
    "for X, y in train_iter:\n",
    "    continue\n",
    "print('%.2f sec' % (time.time() - start))"
   ]
  },
  {
   "cell_type": "code",
   "execution_count": null,
   "id": "00bded82-f0c3-4b78-bec2-c0d9729193a8",
   "metadata": {},
   "outputs": [],
   "source": []
  }
 ],
 "metadata": {
  "kernelspec": {
   "display_name": "Python 3 (ipykernel)",
   "language": "python",
   "name": "python3"
  },
  "language_info": {
   "codemirror_mode": {
    "name": "ipython",
    "version": 3
   },
   "file_extension": ".py",
   "mimetype": "text/x-python",
   "name": "python",
   "nbconvert_exporter": "python",
   "pygments_lexer": "ipython3",
   "version": "3.8.8"
  }
 },
 "nbformat": 4,
 "nbformat_minor": 5
}
