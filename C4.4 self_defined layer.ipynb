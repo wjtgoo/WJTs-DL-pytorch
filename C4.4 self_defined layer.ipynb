{
 "cells": [
  {
   "cell_type": "code",
   "execution_count": 4,
   "id": "aac3b97c-f411-42a0-af85-2d3c75c06b8d",
   "metadata": {},
   "outputs": [],
   "source": [
    "import torch\n",
    "from torch import nn\n",
    "from torch.nn import init"
   ]
  },
  {
   "cell_type": "markdown",
   "id": "50815bfb-211b-4197-b956-c27deacc0341",
   "metadata": {},
   "source": [
    "#### 自定义参数进行运算"
   ]
  },
  {
   "cell_type": "code",
   "execution_count": 2,
   "id": "0e9e8203-e07c-4293-8dd2-6c97d7934044",
   "metadata": {},
   "outputs": [
    {
     "name": "stdout",
     "output_type": "stream",
     "text": [
      "MyDense(\n",
      "  (params): ParameterList(\n",
      "      (0): Parameter containing: [torch.FloatTensor of size 4x4]\n",
      "      (1): Parameter containing: [torch.FloatTensor of size 4x4]\n",
      "      (2): Parameter containing: [torch.FloatTensor of size 4x4]\n",
      "      (3): Parameter containing: [torch.FloatTensor of size 4x1]\n",
      "  )\n",
      ")\n"
     ]
    }
   ],
   "source": [
    "class MyDense(nn.Module):\n",
    "    def __init__(self):\n",
    "        super().__init__()\n",
    "        self.params = nn.ParameterList([nn.Parameter(torch.randn(4, 4)) for i in range(3)])\n",
    "        self.params.append(nn.Parameter(torch.randn(4, 1)))\n",
    "    \n",
    "    def forward(self, x):\n",
    "        for i in range(len(self.params)):\n",
    "            x = torch.mm(x, self.params[i])\n",
    "        return x\n",
    "net = MyDense()\n",
    "print(net)"
   ]
  },
  {
   "cell_type": "code",
   "execution_count": null,
   "id": "bd5b5aac-23b0-4cc0-b43a-142aef162cc8",
   "metadata": {},
   "outputs": [
    {
     "name": "stdout",
     "output_type": "stream",
     "text": [
      "params.0 Parameter containing:\n",
      "tensor([[-0.0024, -0.0060, -0.0015, -0.0111],\n",
      "        [ 0.0093,  0.0058, -0.0122,  0.0040],\n",
      "        [-0.0059, -0.0057, -0.0236, -0.0102],\n",
      "        [-0.0045, -0.0150,  0.0076,  0.0050]], requires_grad=True)\n",
      "params.1 Parameter containing:\n",
      "tensor([[-8.1670e-03, -7.0975e-03,  1.6915e-02,  1.2317e-02],\n",
      "        [ 9.9481e-03, -9.0809e-03,  9.3565e-03,  3.6643e-03],\n",
      "        [-7.1118e-03,  2.5254e-03, -1.4092e-02,  1.0805e-02],\n",
      "        [-5.0319e-05, -1.0523e-02,  1.3209e-03,  8.1885e-03]],\n",
      "       requires_grad=True)\n",
      "params.2 Parameter containing:\n",
      "tensor([[-0.0007, -0.0153,  0.0002,  0.0015],\n",
      "        [ 0.0104, -0.0062,  0.0060, -0.0080],\n",
      "        [-0.0058, -0.0115,  0.0133, -0.0096],\n",
      "        [-0.0001, -0.0103,  0.0047, -0.0079]], requires_grad=True)\n",
      "params.3 Parameter containing:\n",
      "tensor([[-0.0217],\n",
      "        [-0.0147],\n",
      "        [ 0.0054],\n",
      "        [ 0.0068]], requires_grad=True)\n"
     ]
    }
   ],
   "source": [
    "for name, param in net.named_parameters():\n",
    "        init.normal_(param, mean=0, std=0.01)\n",
    "        print(name, param)"
   ]
  },
  {
   "cell_type": "code",
   "execution_count": null,
   "id": "371dff93-01c1-48bc-9c82-49c960954327",
   "metadata": {},
   "outputs": [],
   "source": []
  }
 ],
 "metadata": {
  "kernelspec": {
   "display_name": "Python 3 (ipykernel)",
   "language": "python",
   "name": "python3"
  },
  "language_info": {
   "codemirror_mode": {
    "name": "ipython",
    "version": 3
   },
   "file_extension": ".py",
   "mimetype": "text/x-python",
   "name": "python",
   "nbconvert_exporter": "python",
   "pygments_lexer": "ipython3",
   "version": "3.8.8"
  }
 },
 "nbformat": 4,
 "nbformat_minor": 5
}
