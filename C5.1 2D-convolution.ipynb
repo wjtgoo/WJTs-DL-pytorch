{
 "cells": [
  {
   "cell_type": "code",
   "execution_count": 1,
   "id": "255d0761-ab7e-4343-b7e7-aa517b950102",
   "metadata": {},
   "outputs": [],
   "source": [
    "import torch\n",
    "from torch import nn"
   ]
  },
  {
   "cell_type": "markdown",
   "id": "51a5013b-83a0-4c67-9c7a-a832280c1cfa",
   "metadata": {},
   "source": [
    "#### 二维卷积函数"
   ]
  },
  {
   "cell_type": "code",
   "execution_count": 2,
   "id": "976622f8-cb2f-422d-956c-670a3ca286e4",
   "metadata": {},
   "outputs": [],
   "source": [
    "## 2-D convolution funcion\n",
    "def corr2d(X, K):\n",
    "    h, w = K.shape\n",
    "    Y = torch.zeros((X.shape[0]-h+1, X.shape[1]-w+1))\n",
    "    for i in range(Y.shape[0]):\n",
    "        for j in range(Y.shape[1]):\n",
    "            Y[i, j] = (X[i: i+h, j: j+w]*K).sum()\n",
    "    return Y"
   ]
  },
  {
   "cell_type": "code",
   "execution_count": 3,
   "id": "8ba9ad47-49eb-4a7c-82a6-c23dfe88c032",
   "metadata": {},
   "outputs": [
    {
     "data": {
      "text/plain": [
       "tensor([[19., 25.],\n",
       "        [37., 43.]])"
      ]
     },
     "execution_count": 3,
     "metadata": {},
     "output_type": "execute_result"
    }
   ],
   "source": [
    "## test\n",
    "X = torch.tensor([[0, 1, 2], [3, 4, 5], [6, 7, 8]])\n",
    "K = torch.tensor([[0, 1], [2, 3]])\n",
    "corr2d(X, K)\n"
   ]
  },
  {
   "cell_type": "markdown",
   "id": "54b38ac3-26de-4978-831e-e46018fb2f48",
   "metadata": {},
   "source": [
    "#### 二维卷积层"
   ]
  },
  {
   "cell_type": "code",
   "execution_count": 5,
   "id": "297318bd-2584-43c1-a971-170678e65b14",
   "metadata": {},
   "outputs": [],
   "source": [
    "class Conv2D(nn.Module):\n",
    "    def __init__(self, kernel_size):\n",
    "        super().__init__()\n",
    "        self.weight = nn.Parameter(torch.randn(kernel_size))\n",
    "        self.bias = nn.Parameter(torch.randn(1))\n",
    "        \n",
    "    def forward(self, x):\n",
    "        return corr2d(x, self.weight)+self.bias"
   ]
  },
  {
   "cell_type": "code",
   "execution_count": null,
   "id": "4147e35b-0d15-41f2-a4b7-6c2186a73c70",
   "metadata": {},
   "outputs": [],
   "source": []
  }
 ],
 "metadata": {
  "kernelspec": {
   "display_name": "Python 3 (ipykernel)",
   "language": "python",
   "name": "python3"
  },
  "language_info": {
   "codemirror_mode": {
    "name": "ipython",
    "version": 3
   },
   "file_extension": ".py",
   "mimetype": "text/x-python",
   "name": "python",
   "nbconvert_exporter": "python",
   "pygments_lexer": "ipython3",
   "version": "3.8.8"
  }
 },
 "nbformat": 4,
 "nbformat_minor": 5
}
