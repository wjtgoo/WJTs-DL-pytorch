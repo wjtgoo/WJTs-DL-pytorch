{
 "cells": [
  {
   "cell_type": "markdown",
   "id": "aadbc3f6-58f1-40ab-afea-da3d7cbd561d",
   "metadata": {},
   "source": [
    "#### 多输入通道"
   ]
  },
  {
   "cell_type": "markdown",
   "id": "177cf1bc-7fc5-442e-ae54-97fcd8b652e2",
   "metadata": {},
   "source": [
    "将每一个通道进行卷积相加"
   ]
  },
  {
   "cell_type": "code",
   "execution_count": 1,
   "id": "275e40a5-f679-44e9-ab5e-d2633d32e9e6",
   "metadata": {},
   "outputs": [],
   "source": [
    "import torch\n",
    "from torch import nn"
   ]
  },
  {
   "cell_type": "code",
   "execution_count": 2,
   "id": "bb234f53-c103-4f59-8762-6c4861884feb",
   "metadata": {},
   "outputs": [],
   "source": [
    "## 2-D convolution funcion\n",
    "def corr2d(X, K):\n",
    "    h, w = K.shape\n",
    "    Y = torch.zeros((X.shape[0]-h+1, X.shape[1]-w+1))\n",
    "    for i in range(Y.shape[0]):\n",
    "        for j in range(Y.shape[1]):\n",
    "            Y[i, j] = (X[i: i+h, j: j+w]*K).sum()\n",
    "    return Y"
   ]
  },
  {
   "cell_type": "code",
   "execution_count": 4,
   "id": "2a7bce8d-68bd-4a2d-9ec6-2d204c22b2eb",
   "metadata": {},
   "outputs": [],
   "source": [
    "def corr2d_multi_in(X, K):\n",
    "    res = corr2d(X[0, :, :], K[0, :, :])\n",
    "    for i in range(1, X.shape[0]):\n",
    "        # 将每个通道累加，所以输出通道为1\n",
    "        res +=corr2d(X[i, :, :], K[i, :, :])\n",
    "    return res"
   ]
  },
  {
   "cell_type": "markdown",
   "id": "a27ec45c-cb69-4c5c-974b-ff98518eb14b",
   "metadata": {},
   "source": [
    "#### 多输出通道"
   ]
  },
  {
   "cell_type": "code",
   "execution_count": 5,
   "id": "5963fdb1-51e0-4ae8-b806-fac52e8c90f9",
   "metadata": {},
   "outputs": [],
   "source": [
    "def corr2d_multi_in_out(X, K):\n",
    "    # 对K的第0维遍历，每次同输入X做互相关计算。所有结果使用stack函数合并在一起\n",
    "    return torch.stack([corr2d_multi_in(X, k) for k in K])"
   ]
  },
  {
   "cell_type": "code",
   "execution_count": 7,
   "id": "c7821d08-7e85-4d4d-8696-0448b3c9be9e",
   "metadata": {},
   "outputs": [
    {
     "data": {
      "text/plain": [
       "torch.Size([3, 2, 2, 2])"
      ]
     },
     "execution_count": 7,
     "metadata": {},
     "output_type": "execute_result"
    }
   ],
   "source": [
    "K = torch.tensor([[[0, 1], [2, 3]], [[1, 2], [3, 4]]])\n",
    "K = torch.stack([K, K + 1, K + 2])\n",
    "K.shape # torch.Size([3, 2, 2, 2])"
   ]
  },
  {
   "cell_type": "code",
   "execution_count": null,
   "id": "dafdc2e3-0908-4c01-9f10-1da11e6635b2",
   "metadata": {},
   "outputs": [],
   "source": []
  }
 ],
 "metadata": {
  "kernelspec": {
   "display_name": "Python 3 (ipykernel)",
   "language": "python",
   "name": "python3"
  },
  "language_info": {
   "codemirror_mode": {
    "name": "ipython",
    "version": 3
   },
   "file_extension": ".py",
   "mimetype": "text/x-python",
   "name": "python",
   "nbconvert_exporter": "python",
   "pygments_lexer": "ipython3",
   "version": "3.8.8"
  }
 },
 "nbformat": 4,
 "nbformat_minor": 5
}
