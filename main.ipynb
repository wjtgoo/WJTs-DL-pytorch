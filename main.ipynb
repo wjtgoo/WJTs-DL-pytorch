{
 "cells": [
  {
   "cell_type": "code",
   "execution_count": 1,
   "id": "75bd3333-748f-403d-98f6-443996d358c8",
   "metadata": {},
   "outputs": [],
   "source": [
    "from Dataloader.dataloader import offical_exist_data\n",
    "from model.conv_net import LeNet\n",
    "from train.train import train\n",
    "import torch\n",
    "from torch import nn\n",
    "\n",
    "device = torch.device('cuda' if torch.cuda.is_available() else 'cpu')"
   ]
  },
  {
   "cell_type": "code",
   "execution_count": 2,
   "id": "1a32c577-0228-4077-8d87-e49ad743980e",
   "metadata": {},
   "outputs": [
    {
     "name": "stdout",
     "output_type": "stream",
     "text": [
      "training on  cpu\n",
      "epoch 1, loss 1.8112, train acc 0.339, test acc 0.583, time 20.3 sec\n",
      "epoch 2, loss 0.9299, train acc 0.646, test acc 0.684, time 28.2 sec\n",
      "epoch 3, loss 0.7558, train acc 0.718, test acc 0.730, time 36.4 sec\n",
      "epoch 4, loss 0.6709, train acc 0.744, test acc 0.748, time 31.5 sec\n",
      "epoch 5, loss 0.6208, train acc 0.758, test acc 0.756, time 41.1 sec\n",
      "epoch 6, loss 0.5820, train acc 0.772, test acc 0.774, time 36.1 sec\n",
      "epoch 7, loss 0.5557, train acc 0.782, test acc 0.780, time 33.6 sec\n",
      "epoch 8, loss 0.5337, train acc 0.790, test acc 0.790, time 33.6 sec\n",
      "epoch 9, loss 0.5116, train acc 0.800, test acc 0.798, time 25.6 sec\n",
      "epoch 10, loss 0.4936, train acc 0.807, test acc 0.804, time 24.0 sec\n"
     ]
    }
   ],
   "source": [
    "# get Fashion_MNIST data\n",
    "train_iter, test_iter = offical_exist_data(data_name='FashionMNIST')\n",
    "# load LeNet\n",
    "net = LeNet(img_size=(28,28))\n",
    "# choose optimizer\n",
    "optimizer = torch.optim.Adam(net.parameters(),lr=0.001)\n",
    "# train\n",
    "train_loss, train_acc, test_acc = train(net, train_iter, test_iter,\n",
    "                                        batch_size=256, num_epochs=10, \n",
    "                                        optimizer=optimizer, \n",
    "                                        loss=nn.CrossEntropyLoss(), \n",
    "                                        device=device)\n",
    "# save model\n",
    "path = r'./model/saved_model/LeNet_fashion_MNist_test_acc_0.804_epoch_10.pth'\n",
    "torch.save(net.state_dict(), path)"
   ]
  },
  {
   "cell_type": "code",
   "execution_count": 6,
   "id": "dda281c7-d2d8-4d50-9326-137eaf4070e8",
   "metadata": {},
   "outputs": [],
   "source": [
    "# save model\n",
    "path = r'./model/saved_model/LeNet_fashion_MNist_test_acc_0.804_epoch_10.pth'\n",
    "torch.save(net.state_dict(), path)"
   ]
  },
  {
   "cell_type": "code",
   "execution_count": null,
   "id": "d8138ed0-77ca-4365-a5cd-5f0ac0c46d76",
   "metadata": {},
   "outputs": [],
   "source": [
    "# load model\n",
    "net.load_state_dict(torch.load(path))"
   ]
  },
  {
   "cell_type": "code",
   "execution_count": 7,
   "id": "00b2525e-e999-4266-a54e-02b4d8403034",
   "metadata": {},
   "outputs": [
    {
     "data": {
      "text/plain": [
       "([1.8112405959596025,\n",
       "  0.9298834207210135,\n",
       "  0.7557669959169753,\n",
       "  0.6708794466992642,\n",
       "  0.6207795058159118,\n",
       "  0.5819565289832176,\n",
       "  0.5557168712007239,\n",
       "  0.5336998294008539,\n",
       "  0.5115513861179352,\n",
       "  0.49360826738337255],\n",
       " [0.33905,\n",
       "  0.6464833333333333,\n",
       "  0.7179833333333333,\n",
       "  0.7444,\n",
       "  0.7580166666666667,\n",
       "  0.7719833333333334,\n",
       "  0.78175,\n",
       "  0.7901,\n",
       "  0.79995,\n",
       "  0.8069833333333334],\n",
       " [0.5829,\n",
       "  0.6845,\n",
       "  0.7301,\n",
       "  0.7476,\n",
       "  0.756,\n",
       "  0.7739,\n",
       "  0.7801,\n",
       "  0.7898,\n",
       "  0.7984,\n",
       "  0.8041])"
      ]
     },
     "execution_count": 7,
     "metadata": {},
     "output_type": "execute_result"
    }
   ],
   "source": [
    "train_loss, train_acc, test_acc"
   ]
  },
  {
   "cell_type": "code",
   "execution_count": null,
   "id": "4415b2da-fe2b-45fc-8198-033526e7b777",
   "metadata": {},
   "outputs": [],
   "source": []
  }
 ],
 "metadata": {
  "kernelspec": {
   "display_name": "Python 3 (ipykernel)",
   "language": "python",
   "name": "python3"
  },
  "language_info": {
   "codemirror_mode": {
    "name": "ipython",
    "version": 3
   },
   "file_extension": ".py",
   "mimetype": "text/x-python",
   "name": "python",
   "nbconvert_exporter": "python",
   "pygments_lexer": "ipython3",
   "version": "3.8.8"
  }
 },
 "nbformat": 4,
 "nbformat_minor": 5
}
