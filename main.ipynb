{
 "cells": [
  {
   "cell_type": "code",
   "execution_count": 12,
   "id": "75bd3333-748f-403d-98f6-443996d358c8",
   "metadata": {},
   "outputs": [],
   "source": [
    "from Dataloader.dataloader import offical_exist_data\n",
    "from Dataloader.dataloader import trans_data\n",
    "from model.conv_net import LeNet, use_model, AlexNet\n",
    "from train.train import train, evaluate_accuracy\n",
    "import torch\n",
    "from torch import nn"
   ]
  },
  {
   "cell_type": "code",
   "execution_count": 3,
   "id": "2efbe762-acb1-4458-85e3-8ad4fb2d9a26",
   "metadata": {},
   "outputs": [],
   "source": [
    "device = torch.device('cuda' if torch.cuda.is_available() else 'cpu')"
   ]
  },
  {
   "cell_type": "code",
   "execution_count": 2,
   "id": "1a32c577-0228-4077-8d87-e49ad743980e",
   "metadata": {
    "collapsed": true,
    "jupyter": {
     "outputs_hidden": true
    },
    "tags": []
   },
   "outputs": [
    {
     "name": "stdout",
     "output_type": "stream",
     "text": [
      "training on  cpu\n",
      "epoch 1, loss 1.8477, train acc 0.322, test acc 0.571, time 40.3 sec\n",
      "epoch 2, loss 0.9436, train acc 0.634, test acc 0.692, time 38.9 sec\n",
      "epoch 3, loss 0.7617, train acc 0.716, test acc 0.730, time 39.2 sec\n",
      "epoch 4, loss 0.6725, train acc 0.743, test acc 0.743, time 39.0 sec\n",
      "epoch 5, loss 0.6213, train acc 0.757, test acc 0.756, time 38.7 sec\n",
      "epoch 6, loss 0.5835, train acc 0.770, test acc 0.770, time 38.8 sec\n",
      "epoch 7, loss 0.5521, train acc 0.785, test acc 0.780, time 38.6 sec\n",
      "epoch 8, loss 0.5249, train acc 0.797, test acc 0.797, time 38.3 sec\n",
      "epoch 9, loss 0.5025, train acc 0.807, test acc 0.802, time 38.8 sec\n",
      "epoch 10, loss 0.4792, train acc 0.819, test acc 0.806, time 42.2 sec\n"
     ]
    }
   ],
   "source": [
    "# get Fashion_MNIST data\n",
    "train_iter, test_iter = offical_exist_data(data_name='FashionMNIST')\n",
    "# load LeNet\n",
    "net = LeNet(img_size=(28,28))\n",
    "# choose optimizer\n",
    "optimizer = torch.optim.Adam(net.parameters(),lr=0.001)\n",
    "# train\n",
    "train_loss, train_acc, test_acc = train(net, train_iter, test_iter,\n",
    "                                        batch_size=256, num_epochs=10, \n",
    "                                        optimizer=optimizer, \n",
    "                                        loss=nn.CrossEntropyLoss(), \n",
    "                                        device=device)\n",
    "# save model\n",
    "path = r'./model/saved_model/LeNet_fashion_MNist_test_acc_0.804_epoch_10.pth'\n",
    "#torch.save(net.state_dict(), path)"
   ]
  },
  {
   "cell_type": "code",
   "execution_count": 3,
   "id": "1ef45c52-da67-40e8-af38-f74538800764",
   "metadata": {},
   "outputs": [
    {
     "data": {
      "text/plain": [
       "[1.847695572325524,\n",
       " 0.943569067437598,\n",
       " 0.761680949241557,\n",
       " 0.6725248319037417,\n",
       " 0.6212519724318322,\n",
       " 0.58348554410833,\n",
       " 0.552090352646848,\n",
       " 0.5248822269287515,\n",
       " 0.5025038104108039,\n",
       " 0.4791793403473306]"
      ]
     },
     "execution_count": 3,
     "metadata": {},
     "output_type": "execute_result"
    }
   ],
   "source": [
    "train_loss"
   ]
  },
  {
   "cell_type": "markdown",
   "id": "5a6744fe-0937-4640-969e-07b9db1c4fff",
   "metadata": {},
   "source": [
    "#### 加载模型"
   ]
  },
  {
   "cell_type": "code",
   "execution_count": 2,
   "id": "bc1fb3ee-8276-47c5-98a2-b785bc976550",
   "metadata": {},
   "outputs": [
    {
     "data": {
      "text/plain": [
       "<All keys matched successfully>"
      ]
     },
     "execution_count": 2,
     "metadata": {},
     "output_type": "execute_result"
    }
   ],
   "source": [
    "# load LeNet\n",
    "net = LeNet(img_size=(28,28))\n",
    "net.load_state_dict(torch.load(r'./model/saved_model/LeNet_fashion_MNist_test_acc_0.804_epoch_10.pth'))"
   ]
  },
  {
   "cell_type": "code",
   "execution_count": 3,
   "id": "bd0af822-fbfb-4335-b8c5-e03c1cac646f",
   "metadata": {},
   "outputs": [],
   "source": [
    "import torchvision.transforms as transforms\n",
    "import torchvision\n",
    "test = torchvision.datasets.FashionMNIST(root='../../Datasets/FashionMNIST',train=False,download=True,\n",
    "                                              transform=transforms.ToTensor())"
   ]
  },
  {
   "cell_type": "code",
   "execution_count": 28,
   "id": "673f5177-d943-4248-ac59-9070573fe3fc",
   "metadata": {},
   "outputs": [],
   "source": [
    "test_data = torch.stack([test[i+10][0] for i in range(5)],0)"
   ]
  },
  {
   "cell_type": "code",
   "execution_count": 29,
   "id": "a5037c80-5965-4fd2-82ac-ef60dc44736d",
   "metadata": {},
   "outputs": [],
   "source": [
    "pre_label = use_model(test_data, net)"
   ]
  },
  {
   "cell_type": "code",
   "execution_count": 30,
   "id": "c81bea0c-a763-4314-85e1-9b35abc5c82a",
   "metadata": {},
   "outputs": [
    {
     "data": {
      "text/plain": [
       "tensor([4, 5, 5, 3, 4])"
      ]
     },
     "execution_count": 30,
     "metadata": {},
     "output_type": "execute_result"
    }
   ],
   "source": [
    "pre_label"
   ]
  },
  {
   "cell_type": "code",
   "execution_count": 31,
   "id": "1adca670-0d87-4d33-9042-868ad6a778a9",
   "metadata": {},
   "outputs": [],
   "source": [
    "real_label = [test[i+10][1] for i in range(5)]"
   ]
  },
  {
   "cell_type": "code",
   "execution_count": 32,
   "id": "f200d938-0e82-4049-8ad1-f3ca914ca7ef",
   "metadata": {},
   "outputs": [
    {
     "data": {
      "text/plain": [
       "[4, 5, 7, 3, 4]"
      ]
     },
     "execution_count": 32,
     "metadata": {},
     "output_type": "execute_result"
    }
   ],
   "source": [
    "real_label"
   ]
  },
  {
   "cell_type": "markdown",
   "id": "4d8667bf-06a2-4a60-af61-d07112f64fbb",
   "metadata": {},
   "source": [
    "#### 画数据图"
   ]
  },
  {
   "cell_type": "code",
   "execution_count": 33,
   "id": "505418c9-155f-40d4-9218-def34eaa7db7",
   "metadata": {},
   "outputs": [],
   "source": [
    "from utils.utils import show_images_labels"
   ]
  },
  {
   "cell_type": "code",
   "execution_count": 34,
   "id": "7658995f-323c-426e-b3b6-416e2ec9fac4",
   "metadata": {},
   "outputs": [],
   "source": [
    "from utils.utils import show_images_real_pre_labels"
   ]
  },
  {
   "cell_type": "code",
   "execution_count": 36,
   "id": "f5113d48-f0f9-45de-8622-2b57bd3d5325",
   "metadata": {},
   "outputs": [
    {
     "data": {
      "image/png": "[encoded data removed]",
      "text/plain": [
       "<Figure size 864x864 with 5 Axes>"
      ]
     },
     "metadata": {
      "needs_background": "light"
     },
     "output_type": "display_data"
    }
   ],
   "source": [
    "show_images_real_pre_labels(test_data, real_label, pre_label)"
   ]
  },
  {
   "cell_type": "markdown",
   "id": "ee7a8d77-2219-4574-9c3e-be2e52f5dffb",
   "metadata": {},
   "source": [
    "#### 画训练图"
   ]
  },
  {
   "cell_type": "code",
   "execution_count": 4,
   "id": "759f1de4-b77f-4f5e-9f99-f12fd20fbf8d",
   "metadata": {},
   "outputs": [],
   "source": [
    "import matplotlib.pyplot as plt\n",
    "import numpy as np"
   ]
  },
  {
   "cell_type": "code",
   "execution_count": 6,
   "id": "6cf5f501-3b5f-4b47-8480-0d791234fc7b",
   "metadata": {},
   "outputs": [
    {
     "data": {
      "image/png": "[encoded data removed]",
      "text/plain": [
       "<Figure size 432x288 with 2 Axes>"
      ]
     },
     "metadata": {
      "needs_background": "light"
     },
     "output_type": "display_data"
    }
   ],
   "source": [
    "training_status_per_epoch(train_loss, train_acc, test_acc)"
   ]
  },
  {
   "cell_type": "code",
   "execution_count": null,
   "id": "6f187cb3-2f54-4712-98be-1363d862e35e",
   "metadata": {},
   "outputs": [
    {
     "name": "stdout",
     "output_type": "stream",
     "text": [
      "training on  cpu\n",
      "epoch 1, loss 0.7198, train acc 0.727, test acc 0.843, time 7453.5 sec\n"
     ]
    }
   ],
   "source": [
    "# get Fashion_MNIST data\n",
    "train_iter, test_iter = offical_exist_data(data_name='FashionMNIST',resize=227)\n",
    "# load LeNet\n",
    "net = AlexNet(1,10)\n",
    "# choose optimizer\n",
    "optimizer = torch.optim.Adam(net.parameters(),lr=0.001)\n",
    "# train\n",
    "train_loss, train_acc, test_acc = train(net, train_iter, test_iter,\n",
    "                                        batch_size=256, num_epochs=2, \n",
    "                                        optimizer=optimizer, \n",
    "                                        loss=nn.CrossEntropyLoss(), \n",
    "                                        device=device)\n",
    "# save model\n",
    "path = r'./model/saved_model/LeNet_fashion_MNist_test_acc_0.804_epoch_10.pth'\n",
    "#torch.save(net.state_dict(), path)"
   ]
  },
  {
   "cell_type": "code",
   "execution_count": null,
   "id": "4fa7809a-0696-49c0-b70e-a95317cd00e9",
   "metadata": {},
   "outputs": [],
   "source": [
    "path = r'./model/saved_model/AlexNet_fashion_MNist_epoch_2.pth'\n",
    "torch.save(net.state_dict(), path)"
   ]
  },
  {
   "cell_type": "code",
   "execution_count": 4,
   "id": "eb36ea81-3154-4de2-9a17-2a30e12de463",
   "metadata": {},
   "outputs": [
    {
     "data": {
      "text/plain": [
       "<All keys matched successfully>"
      ]
     },
     "execution_count": 4,
     "metadata": {},
     "output_type": "execute_result"
    }
   ],
   "source": [
    "# load LeNet\n",
    "net = AlexNet(1,10)\n",
    "net.load_state_dict(torch.load(r'./model/saved_model/AlexNet_fashion_MNist_epoch_2.pth'))"
   ]
  },
  {
   "cell_type": "code",
   "execution_count": 7,
   "id": "2662d5d1-4a36-4ed0-b849-3bbb2e199051",
   "metadata": {},
   "outputs": [],
   "source": [
    "import torchvision.transforms as transforms\n",
    "import torchvision\n",
    "\n",
    "trans = []\n",
    "trans.append(torchvision.transforms.Resize(size=227))\n",
    "trans.append(torchvision.transforms.ToTensor())\n",
    "transform = torchvision.transforms.Compose(trans)\n",
    "test = torchvision.datasets.FashionMNIST(root='../../Datasets/FashionMNIST',train=False,download=True,\n",
    "                                              transform=transform)"
   ]
  },
  {
   "cell_type": "code",
   "execution_count": 8,
   "id": "801db770-d226-490a-b813-4ed440afeb7f",
   "metadata": {},
   "outputs": [],
   "source": [
    "test_data = torch.stack([test[i+10][0] for i in range(5)],0)"
   ]
  },
  {
   "cell_type": "code",
   "execution_count": 9,
   "id": "056e566d-d55f-4729-ada2-a95162d758fe",
   "metadata": {},
   "outputs": [],
   "source": [
    "pre_label = use_model(test_data, net)"
   ]
  },
  {
   "cell_type": "code",
   "execution_count": 10,
   "id": "7391250f-1d98-4330-b165-f5837d0b5318",
   "metadata": {},
   "outputs": [
    {
     "data": {
      "text/plain": [
       "tensor([4, 5, 5, 3, 4])"
      ]
     },
     "execution_count": 10,
     "metadata": {},
     "output_type": "execute_result"
    }
   ],
   "source": [
    "pre_label"
   ]
  },
  {
   "cell_type": "code",
   "execution_count": 11,
   "id": "cb36f7b9-1fc0-44cb-ae22-acc814abc178",
   "metadata": {},
   "outputs": [
    {
     "data": {
      "text/plain": [
       "[4, 5, 7, 3, 4]"
      ]
     },
     "execution_count": 11,
     "metadata": {},
     "output_type": "execute_result"
    }
   ],
   "source": [
    "[test[i+10][1] for i in range(5)]"
   ]
  },
  {
   "cell_type": "code",
   "execution_count": 13,
   "id": "e92a9b42-6937-48e1-8092-30ab233b3edd",
   "metadata": {},
   "outputs": [],
   "source": [
    "# get Fashion_MNIST data\n",
    "train_iter, test_iter = offical_exist_data(data_name='FashionMNIST',resize=227)"
   ]
  },
  {
   "cell_type": "code",
   "execution_count": 14,
   "id": "f263cfb8-68ac-45fd-8fed-92adf73f8dc4",
   "metadata": {},
   "outputs": [
    {
     "data": {
      "text/plain": [
       "0.8714"
      ]
     },
     "execution_count": 14,
     "metadata": {},
     "output_type": "execute_result"
    }
   ],
   "source": [
    "evaluate_accuracy(test_iter, net)"
   ]
  },
  {
   "cell_type": "code",
   "execution_count": 15,
   "id": "210ee322-387d-481c-89d1-d2ddb9efd5ea",
   "metadata": {},
   "outputs": [
    {
     "data": {
      "text/plain": [
       "<torch.utils.data.dataloader.DataLoader at 0x28215f560d0>"
      ]
     },
     "execution_count": 15,
     "metadata": {},
     "output_type": "execute_result"
    }
   ],
   "source": [
    "test_iter"
   ]
  },
  {
   "cell_type": "code",
   "execution_count": null,
   "id": "f1c49e2b-9d0c-4b9d-823e-6cec11f9d2a5",
   "metadata": {},
   "outputs": [],
   "source": []
  }
 ],
 "metadata": {
  "kernelspec": {
   "display_name": "Python 3 (ipykernel)",
   "language": "python",
   "name": "python3"
  },
  "language_info": {
   "codemirror_mode": {
    "name": "ipython",
    "version": 3
   },
   "file_extension": ".py",
   "mimetype": "text/x-python",
   "name": "python",
   "nbconvert_exporter": "python",
   "pygments_lexer": "ipython3",
   "version": "3.8.8"
  }
 },
 "nbformat": 4,
 "nbformat_minor": 5
}
