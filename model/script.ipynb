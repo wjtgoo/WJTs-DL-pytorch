{
 "cells": [
  {
   "cell_type": "code",
   "execution_count": 1,
   "id": "87bead53-1982-4554-9eef-8e0da21496bc",
   "metadata": {},
   "outputs": [],
   "source": [
    "import torch\n",
    "from torch import nn"
   ]
  },
  {
   "cell_type": "code",
   "execution_count": 2,
   "id": "faf7e107-717f-4235-b6dd-83e0e187e8e8",
   "metadata": {},
   "outputs": [],
   "source": [
    "def save_model(net, path):\n",
    "    '''\n",
    "    params:\n",
    "        net: the model u want to save\n",
    "        path: the weight file's path u saved which extension \n",
    "              recommand to use .pth or .pt\n",
    "    '''\n",
    "    torch.save(net.state_dict(), path)"
   ]
  },
  {
   "cell_type": "code",
   "execution_count": 7,
   "id": "bfa654f7-91d1-40f8-884a-fb3eed4b1756",
   "metadata": {},
   "outputs": [],
   "source": [
    "def load_model(net, path):\n",
    "    '''\n",
    "    params:\n",
    "        net: the model u want to load weights\n",
    "        path: the weight file's path u saved\n",
    "    '''\n",
    "    net.load_state_dict(torch.load(path))\n",
    "    "
   ]
  },
  {
   "cell_type": "code",
   "execution_count": null,
   "id": "8f75cf14-c4c4-4c45-9dbc-08486f03ade1",
   "metadata": {},
   "outputs": [],
   "source": []
  }
 ],
 "metadata": {
  "kernelspec": {
   "display_name": "Python 3 (ipykernel)",
   "language": "python",
   "name": "python3"
  },
  "language_info": {
   "codemirror_mode": {
    "name": "ipython",
    "version": 3
   },
   "file_extension": ".py",
   "mimetype": "text/x-python",
   "name": "python",
   "nbconvert_exporter": "python",
   "pygments_lexer": "ipython3",
   "version": "3.8.8"
  }
 },
 "nbformat": 4,
 "nbformat_minor": 5
}
