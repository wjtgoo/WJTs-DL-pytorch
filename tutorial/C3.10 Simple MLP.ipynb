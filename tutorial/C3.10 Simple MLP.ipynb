{
 "cells": [
  {
   "cell_type": "code",
   "execution_count": 3,
   "id": "98a04955-2900-456b-aa20-975c78d59adc",
   "metadata": {},
   "outputs": [],
   "source": [
    "import torch\n",
    "from torch import nn\n",
    "from torch.nn import init\n",
    "import sys\n",
    "import numpy as np\n",
    "import d2lzh_pytorch as d2l\n",
    "import torchvision\n",
    "import torchvision.transforms as transforms"
   ]
  },
  {
   "cell_type": "markdown",
   "id": "f2eee9bb-1dfd-48c8-857e-e904aa7ed792",
   "metadata": {},
   "source": [
    "#### 加载数据"
   ]
  },
  {
   "cell_type": "code",
   "execution_count": 5,
   "id": "23d40442-b37f-401e-baad-c1d6ce160a25",
   "metadata": {},
   "outputs": [],
   "source": [
    "batch_size = 256\n",
    "mnist_train = torchvision.datasets.FashionMNIST(root='./Datasets/FashionMNIST',\n",
    "                                               train=True,\n",
    "                                               transform=transforms.ToTensor())\n",
    "mnist_test = torchvision.datasets.FashionMNIST(root='./Datasets/FashionMNIST',\n",
    "                                               train=False,\n",
    "                                               transform=transforms.ToTensor())\n",
    "train_iter = torch.utils.data.DataLoader(mnist_train, batch_size=batch_size,\n",
    "                                        shuffle=True, num_workers=4)\n",
    "test_iter = torch.utils.data.DataLoader(mnist_test, batch_size=batch_size,\n",
    "                                        shuffle=True, num_workers=4)"
   ]
  },
  {
   "cell_type": "markdown",
   "id": "d02ad694-867d-471b-8923-bc9d367f7e4a",
   "metadata": {},
   "source": [
    "#### 定义模型"
   ]
  },
  {
   "cell_type": "code",
   "execution_count": 23,
   "id": "c519a57b-7ed9-4a22-9e9b-c17ca119561b",
   "metadata": {},
   "outputs": [],
   "source": [
    "# model1\n",
    "class MLP(nn.Module):\n",
    "    def __init__(self, num_inputs, num_hiddens, num_outputs):\n",
    "        super().__init__()\n",
    "        self.linear1 = nn.Linear(num_inputs, num_hiddens)\n",
    "        self.relu = nn.ReLU()\n",
    "        self.linear2 = nn.Linear(num_hiddens, num_outputs)\n",
    "    def forward(self,x):\n",
    "        x1 = x.view(x.shape[0], -1)\n",
    "        y1 = self.linear1(x1)\n",
    "        h1 = self.relu(y1)\n",
    "        y = self.linear2(h1)\n",
    "        return y"
   ]
  },
  {
   "cell_type": "code",
   "execution_count": 28,
   "id": "24063932-1fcc-41a7-a3af-af3c7639893b",
   "metadata": {},
   "outputs": [],
   "source": [
    "# model2\n",
    "class FlattenLayer(nn.Module):\n",
    "    def __init__(self):\n",
    "        super().__init__()\n",
    "    def forward(self,x):\n",
    "        y = x.view(x.shape[0], -1)\n",
    "        return y\n",
    "\n",
    "net = nn.Sequential(\n",
    "        FlattenLayer(),\n",
    "        nn.Linear(num_inputs, num_hiddens),\n",
    "        nn.ReLU(),\n",
    "        nn.Linear(num_hiddens, num_outputs), \n",
    "        )"
   ]
  },
  {
   "cell_type": "code",
   "execution_count": 27,
   "id": "7762a29b-9c35-4a0b-beed-4a9d5c844e91",
   "metadata": {},
   "outputs": [],
   "source": [
    "num_inputs, num_outputs, num_hiddens = 784, 10, 256\n",
    "net = MLP(num_inputs, num_hiddens, num_outputs)\n",
    "# 初始化参数\n",
    "for params in net.parameters():\n",
    "    init.normal_(params, mean=0, std=0.01)"
   ]
  },
  {
   "cell_type": "markdown",
   "id": "855eb506-5722-46a3-8b0e-9188496a9f42",
   "metadata": {},
   "source": [
    "#### 定义损失函数、优化器"
   ]
  },
  {
   "cell_type": "code",
   "execution_count": 18,
   "id": "95ff8167-9af3-4be2-b56f-6c9aba9201fb",
   "metadata": {},
   "outputs": [],
   "source": [
    "loss = torch.nn.CrossEntropyLoss()\n",
    "optimizer = torch.optim.SGD(net.parameters(), lr=0.5)"
   ]
  },
  {
   "cell_type": "code",
   "execution_count": 20,
   "id": "8c99da33-f8fa-4e91-8114-72ec1f876507",
   "metadata": {},
   "outputs": [],
   "source": [
    "def evaluate_accuracy(data_iter, net):\n",
    "    acc_sum, n = 0.0, 0\n",
    "    for X, y in data_iter:\n",
    "        acc_sum += (net(X).argmax(dim=1) == y).float().sum().item()\n",
    "        n += y.shape[0]\n",
    "    return acc_sum / n"
   ]
  },
  {
   "cell_type": "code",
   "execution_count": 21,
   "id": "fb3bb47b-e464-43c1-a332-b71f6ac7a3ed",
   "metadata": {},
   "outputs": [
    {
     "name": "stdout",
     "output_type": "stream",
     "text": [
      "epoch 1, loss 0.0019, train acc 0.826, test acc 0.780\n",
      "epoch 2, loss 0.0016, train acc 0.844, test acc 0.802\n",
      "epoch 3, loss 0.0015, train acc 0.855, test acc 0.818\n",
      "epoch 4, loss 0.0014, train acc 0.865, test acc 0.829\n",
      "epoch 5, loss 0.0014, train acc 0.872, test acc 0.853\n",
      "epoch 6, loss 0.0013, train acc 0.877, test acc 0.857\n",
      "epoch 7, loss 0.0013, train acc 0.882, test acc 0.843\n",
      "epoch 8, loss 0.0012, train acc 0.886, test acc 0.799\n",
      "epoch 9, loss 0.0012, train acc 0.888, test acc 0.864\n",
      "epoch 10, loss 0.0011, train acc 0.893, test acc 0.871\n"
     ]
    }
   ],
   "source": [
    "num_epochs = 10\n",
    "for epoch in range(num_epochs):\n",
    "    train_l_sum, train_acc_sum, n = 0, 0, 0\n",
    "    for X, y in train_iter:\n",
    "        y_hat = net.forward(X)\n",
    "        l = loss(y_hat, y).sum()\n",
    "        optimizer.zero_grad()\n",
    "        l.backward()\n",
    "        optimizer.step()\n",
    "        train_l_sum += l.item()\n",
    "        train_acc_sum += (y_hat.argmax(dim=1)==y).sum().item()\n",
    "        n+=y.shape[0]\n",
    "    test_acc = evaluate_accuracy(test_iter, net)\n",
    "    print('epoch %d, loss %.4f, train acc %.3f, test acc %.3f'\n",
    "              % (epoch + 1, train_l_sum / n, train_acc_sum / n, test_acc))"
   ]
  },
  {
   "cell_type": "code",
   "execution_count": null,
   "id": "cdf86d2c-e6f0-4fcd-b2af-dc52ead18fe0",
   "metadata": {},
   "outputs": [],
   "source": []
  }
 ],
 "metadata": {
  "kernelspec": {
   "display_name": "Python 3 (ipykernel)",
   "language": "python",
   "name": "python3"
  },
  "language_info": {
   "codemirror_mode": {
    "name": "ipython",
    "version": 3
   },
   "file_extension": ".py",
   "mimetype": "text/x-python",
   "name": "python",
   "nbconvert_exporter": "python",
   "pygments_lexer": "ipython3",
   "version": "3.8.8"
  }
 },
 "nbformat": 4,
 "nbformat_minor": 5
}
