{
 "cells": [
  {
   "cell_type": "code",
   "execution_count": 1,
   "id": "4da8de0c-a3b7-401d-a710-a23c17604d78",
   "metadata": {},
   "outputs": [],
   "source": [
    "import torch\n",
    "import numpy as np\n",
    "import sys\n",
    "import d2lzh_pytorch as d2l"
   ]
  },
  {
   "cell_type": "markdown",
   "id": "1e63a34c-6e17-49af-babf-7cf9d4bd091f",
   "metadata": {},
   "source": [
    "#### 获取和读取数据"
   ]
  },
  {
   "cell_type": "code",
   "execution_count": 2,
   "id": "bff360ec-f2d8-496e-a4db-bcd8ebd16866",
   "metadata": {},
   "outputs": [],
   "source": [
    "batch_size = 256\n",
    "train_iter, test_iter = d2l.load_data_fashion_mnist(batch_size)"
   ]
  },
  {
   "cell_type": "markdown",
   "id": "e2eb86ea-e043-46cb-af8b-1fee99977b0f",
   "metadata": {},
   "source": [
    "#### 定义模型参数"
   ]
  },
  {
   "cell_type": "code",
   "execution_count": 3,
   "id": "44a57510-80b5-4e0d-96ac-0c297890c538",
   "metadata": {},
   "outputs": [],
   "source": [
    "num_inputs, num_outputs, num_hiddens = 784, 10, 256\n",
    "\n",
    "W1 = torch.tensor(np.random.normal(0, 0.01, (num_inputs, num_hiddens)), dtype=torch.float)\n",
    "b1 = torch.zeros(num_hiddens, dtype=torch.float)\n",
    "\n",
    "W2 = torch.tensor(np.random.normal(0, 0.01, (num_hiddens, num_outputs)), dtype=torch.float)\n",
    "b2 = torch.zeros(num_outputs, dtype=torch.float)\n",
    "\n",
    "params = [W1, b1, W2, b2]\n",
    "for param in params:\n",
    "    param.requires_grad_(True)"
   ]
  },
  {
   "cell_type": "markdown",
   "id": "f8fee54a-0777-4bbc-8174-f0d80d1d19d2",
   "metadata": {},
   "source": [
    "#### 定义激活函数\n",
    "$$relu(x)=max(x,0)$$"
   ]
  },
  {
   "cell_type": "code",
   "execution_count": 4,
   "id": "855c0662-a278-4123-a37d-45cc7795c597",
   "metadata": {},
   "outputs": [],
   "source": [
    "def relu(X):\n",
    "    return torch.max(input=X, other=torch.zeros(1))"
   ]
  },
  {
   "cell_type": "markdown",
   "id": "5d831883-ddf8-42ae-b640-c93cc3030360",
   "metadata": {},
   "source": [
    "#### 定义模型"
   ]
  },
  {
   "cell_type": "code",
   "execution_count": 5,
   "id": "ccf839dc-d6cc-4f4d-a115-8fadd8d71bd9",
   "metadata": {},
   "outputs": [],
   "source": [
    "def net(X):\n",
    "    # X:256x784\n",
    "    # W1:784x256 hidden layer's units=256\n",
    "    # b1:1x256\n",
    "    # W2:256x10\n",
    "    # b2:1x10\n",
    "    X = X.view((-1, num_inputs))\n",
    "    H = relu(torch.matmul(X,W1)+b1)\n",
    "    return torch.matmul(H, W2)+b2"
   ]
  },
  {
   "cell_type": "markdown",
   "id": "628d1373-a453-4e8a-993e-6a2e0a72f384",
   "metadata": {},
   "source": [
    "#### 定义损失函数\n",
    "交叉熵损失函数"
   ]
  },
  {
   "cell_type": "code",
   "execution_count": 6,
   "id": "cf4b960e-3cfc-46d2-8761-d39298d26a55",
   "metadata": {},
   "outputs": [],
   "source": [
    "loss = torch.nn.CrossEntropyLoss()"
   ]
  },
  {
   "cell_type": "code",
   "execution_count": 7,
   "id": "bb07d719-3638-49a3-83be-d58c23d3f0f6",
   "metadata": {},
   "outputs": [
    {
     "name": "stdout",
     "output_type": "stream",
     "text": [
      "epoch 1, loss 0.0030, train acc 0.713, test acc 0.792\n",
      "epoch 2, loss 0.0019, train acc 0.823, test acc 0.809\n",
      "epoch 3, loss 0.0017, train acc 0.845, test acc 0.835\n",
      "epoch 4, loss 0.0015, train acc 0.858, test acc 0.838\n",
      "epoch 5, loss 0.0015, train acc 0.861, test acc 0.843\n"
     ]
    }
   ],
   "source": [
    "num_epochs, lr = 5, 100.0\n",
    "d2l.train_ch3(net, train_iter, test_iter, loss, num_epochs, batch_size, params, lr)"
   ]
  },
  {
   "cell_type": "code",
   "execution_count": null,
   "id": "46cdf895-b31c-4634-9447-027cf8389743",
   "metadata": {},
   "outputs": [],
   "source": []
  }
 ],
 "metadata": {
  "kernelspec": {
   "display_name": "Python 3 (ipykernel)",
   "language": "python",
   "name": "python3"
  },
  "language_info": {
   "codemirror_mode": {
    "name": "ipython",
    "version": 3
   },
   "file_extension": ".py",
   "mimetype": "text/x-python",
   "name": "python",
   "nbconvert_exporter": "python",
   "pygments_lexer": "ipython3",
   "version": "3.8.8"
  }
 },
 "nbformat": 4,
 "nbformat_minor": 5
}
