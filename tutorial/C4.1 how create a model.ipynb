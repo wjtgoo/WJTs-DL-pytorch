{
 "cells": [
  {
   "cell_type": "code",
   "execution_count": 2,
   "id": "ec023613-b5d2-402f-b393-3e179e7f19f3",
   "metadata": {},
   "outputs": [],
   "source": [
    "import torch\n",
    "import torch.nn as nn"
   ]
  },
  {
   "cell_type": "markdown",
   "id": "0599e7ef-fe50-4bc1-9dd1-5553ebf78982",
   "metadata": {},
   "source": [
    "#### 01 自己写一个Sequential类"
   ]
  },
  {
   "cell_type": "code",
   "execution_count": 5,
   "id": "e1954db0-dae5-44dc-9a91-4e5e1b4f2604",
   "metadata": {},
   "outputs": [],
   "source": [
    "class MySequential(nn.Module):\n",
    "    from collections import OrderedDict\n",
    "    def __init__(self, *args):\n",
    "        super().__init__()\n",
    "        # 如果传入了一个OrderedDict字典实例\n",
    "        if len(args)==1 and isinstance(args[0], OrderedDict):\n",
    "            for key, module in args[0].items():\n",
    "                # 将字典中的信息填入模型中\n",
    "                # self.add_module添加模型\n",
    "                self.add_module(key, module)\n",
    "        # 如果直接传入模型\n",
    "        else:\n",
    "            for idx, module in enumerate(args):\n",
    "                self.add_module(str(idx), module)\n",
    "    \n",
    "    def forward(self, inputs):\n",
    "        # 利用nn.Module类中自带的self._module函数将之前储存的模型提取出来\n",
    "        for module in self._modules.values():\n",
    "            inputs = module(inputs)\n",
    "        return inputs"
   ]
  },
  {
   "cell_type": "markdown",
   "id": "bcaa3275-4205-4d7f-b19f-1e7f62f7247f",
   "metadata": {},
   "source": [
    "#### 02 ModuleList类"
   ]
  },
  {
   "cell_type": "markdown",
   "id": "1ce7ec06-8c53-4b23-9ef1-8505db954c76",
   "metadata": {},
   "source": [
    "1. 可以进行类似列表的操作<br>\n",
    "2. 不能向前传播，只是一个盛放了模型层的列表<br>\n",
    "3. 与`列表(List)`的区别：<br>\n",
    "    - 加入到ModuleList里面的所有模块的参数会被自动添加到整个网络中"
   ]
  },
  {
   "cell_type": "code",
   "execution_count": 6,
   "id": "9e54f155-9c42-4b56-bcfe-e4425d4f2d59",
   "metadata": {},
   "outputs": [
    {
     "data": {
      "text/plain": [
       "ModuleList(\n",
       "  (0): Linear(in_features=784, out_features=256, bias=True)\n",
       "  (1): ReLU()\n",
       "  (2): Linear(in_features=256, out_features=10, bias=True)\n",
       ")"
      ]
     },
     "execution_count": 6,
     "metadata": {},
     "output_type": "execute_result"
    }
   ],
   "source": [
    "net = nn.ModuleList([nn.Linear(784, 256), nn.ReLU()])\n",
    "net.append(nn.Linear(256, 10))\n"
   ]
  },
  {
   "cell_type": "markdown",
   "id": "c9d0154f-0665-4380-9a90-e72a25e04d81",
   "metadata": {},
   "source": [
    "#### 03 ModuleDict类"
   ]
  },
  {
   "cell_type": "code",
   "execution_count": 7,
   "id": "a9611a7a-3068-4f59-a7f8-3cac3bfeaedd",
   "metadata": {},
   "outputs": [],
   "source": [
    "net = nn.ModuleDict({\n",
    "    'linear': nn.Linear(784, 256),\n",
    "    'act': nn.ReLU()\n",
    "})\n"
   ]
  },
  {
   "cell_type": "code",
   "execution_count": 9,
   "id": "98f0fdac-6c4a-4016-b53a-55fd95ceb5f0",
   "metadata": {},
   "outputs": [],
   "source": [
    "net['output'] = nn.Linear(256, 10)# 往网络中添加层"
   ]
  },
  {
   "cell_type": "code",
   "execution_count": 14,
   "id": "a1ec5156-7613-434d-a4ca-4ad1e28f00d4",
   "metadata": {},
   "outputs": [
    {
     "data": {
      "text/plain": [
       "ReLU()"
      ]
     },
     "execution_count": 14,
     "metadata": {},
     "output_type": "execute_result"
    }
   ],
   "source": [
    "net.act# 调用"
   ]
  },
  {
   "cell_type": "code",
   "execution_count": 15,
   "id": "9be8cc05-c7c1-46a5-893b-63f7122f2ae4",
   "metadata": {},
   "outputs": [
    {
     "data": {
      "text/plain": [
       "ModuleDict(\n",
       "  (linear): Linear(in_features=784, out_features=256, bias=True)\n",
       "  (act): ReLU()\n",
       "  (output): Linear(in_features=256, out_features=10, bias=True)\n",
       ")"
      ]
     },
     "execution_count": 15,
     "metadata": {},
     "output_type": "execute_result"
    }
   ],
   "source": [
    "net"
   ]
  },
  {
   "cell_type": "code",
   "execution_count": null,
   "id": "ca181de5-198e-4a11-9ae7-a618ea89c3b0",
   "metadata": {},
   "outputs": [],
   "source": []
  }
 ],
 "metadata": {
  "kernelspec": {
   "display_name": "Python 3 (ipykernel)",
   "language": "python",
   "name": "python3"
  },
  "language_info": {
   "codemirror_mode": {
    "name": "ipython",
    "version": 3
   },
   "file_extension": ".py",
   "mimetype": "text/x-python",
   "name": "python",
   "nbconvert_exporter": "python",
   "pygments_lexer": "ipython3",
   "version": "3.8.8"
  }
 },
 "nbformat": 4,
 "nbformat_minor": 5
}
