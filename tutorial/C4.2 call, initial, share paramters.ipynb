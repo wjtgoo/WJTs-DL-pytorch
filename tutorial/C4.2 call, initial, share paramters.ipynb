{
 "cells": [
  {
   "cell_type": "code",
   "execution_count": 1,
   "id": "5b02c300-870b-4fae-b52b-aebd4d903c60",
   "metadata": {},
   "outputs": [],
   "source": [
    "import torch\n",
    "from torch import nn\n",
    "from torch.nn import init"
   ]
  },
  {
   "cell_type": "code",
   "execution_count": 3,
   "id": "bcec422c-7623-4ec7-98b1-dfd7f5e7e1b3",
   "metadata": {},
   "outputs": [
    {
     "name": "stdout",
     "output_type": "stream",
     "text": [
      "Sequential(\n",
      "  (0): Linear(in_features=4, out_features=3, bias=True)\n",
      "  (1): ReLU()\n",
      "  (2): Linear(in_features=3, out_features=1, bias=True)\n",
      ")\n"
     ]
    }
   ],
   "source": [
    "# 此时参数已经默认初始化\n",
    "net = nn.Sequential(nn.Linear(4, 3), nn.ReLU(), nn.Linear(3, 1))\n",
    "print(net)"
   ]
  },
  {
   "cell_type": "markdown",
   "id": "1d69aadf-6619-4e32-ab94-f1df801d5020",
   "metadata": {},
   "source": [
    "#### 访问参数"
   ]
  },
  {
   "cell_type": "code",
   "execution_count": 4,
   "id": "8fe4656f-4477-464f-9cda-62ab9996693d",
   "metadata": {},
   "outputs": [
    {
     "name": "stdout",
     "output_type": "stream",
     "text": [
      "<class 'generator'>\n"
     ]
    }
   ],
   "source": [
    "print(type(net.named_parameters()))"
   ]
  },
  {
   "cell_type": "code",
   "execution_count": 5,
   "id": "32a0746d-79b8-4862-b020-317cbcd98eb2",
   "metadata": {},
   "outputs": [
    {
     "name": "stdout",
     "output_type": "stream",
     "text": [
      "0.weight torch.Size([3, 4])\n",
      "0.bias torch.Size([3])\n",
      "2.weight torch.Size([1, 3])\n",
      "2.bias torch.Size([1])\n"
     ]
    }
   ],
   "source": [
    "for name, param in net.named_parameters():\n",
    "    print(name, param.size())"
   ]
  },
  {
   "cell_type": "markdown",
   "id": "34164bfd-b589-41e6-abc3-7650632970f9",
   "metadata": {},
   "source": [
    "**以Sequential类构造的网络可以用[]来访问网络的层**"
   ]
  },
  {
   "cell_type": "code",
   "execution_count": 6,
   "id": "dc5afb42-36d3-4576-a757-60ce829c3ab4",
   "metadata": {},
   "outputs": [
    {
     "name": "stdout",
     "output_type": "stream",
     "text": [
      "weight torch.Size([3, 4]) <class 'torch.nn.parameter.Parameter'>\n",
      "bias torch.Size([3]) <class 'torch.nn.parameter.Parameter'>\n"
     ]
    }
   ],
   "source": [
    "for name, param in net[0].named_parameters():\n",
    "    print(name, param.size(), type(param))"
   ]
  },
  {
   "cell_type": "markdown",
   "id": "1100f789-7320-45bc-a8da-3fe5b76e7918",
   "metadata": {},
   "source": [
    "torch.nn.parameter.Parameter是Tensor的`子类`<br>\n",
    "两者区别：<br>\n",
    "**创建前者会被自动添加到模型的参数列表中**"
   ]
  },
  {
   "cell_type": "markdown",
   "id": "8a1b2f88-5e94-4d0b-90e8-e502d77409a6",
   "metadata": {},
   "source": [
    "#### 初始化模型参数"
   ]
  },
  {
   "cell_type": "code",
   "execution_count": 8,
   "id": "d16a7e14-8783-4b58-b70c-f8833428c0fe",
   "metadata": {},
   "outputs": [
    {
     "name": "stdout",
     "output_type": "stream",
     "text": [
      "0.weight tensor([[-1.3044e-02,  5.6029e-03,  2.9724e-04, -1.6938e-05],\n",
      "        [-6.5446e-03,  7.8678e-03,  9.2060e-03, -9.6625e-03],\n",
      "        [-1.7352e-04,  6.7165e-03,  9.7142e-03, -4.5873e-03]])\n",
      "2.weight tensor([[-0.0026,  0.0079, -0.0050]])\n"
     ]
    }
   ],
   "source": [
    "for name, param in net.named_parameters():\n",
    "    if 'weight' in name:\n",
    "        # 用正态分布初始化权重\n",
    "        init.normal_(param, mean=0, std=0.01)\n",
    "        print(name, param.data)"
   ]
  },
  {
   "cell_type": "code",
   "execution_count": 11,
   "id": "452d8dd9-d0ca-4708-9130-f21f27493f08",
   "metadata": {},
   "outputs": [
    {
     "name": "stdout",
     "output_type": "stream",
     "text": [
      "0.bias tensor([0., 0., 0.])\n",
      "2.bias tensor([0.])\n"
     ]
    }
   ],
   "source": [
    "for name, param in net.named_parameters():\n",
    "    if 'bias' in name:\n",
    "        # 用常数初始化权重\n",
    "        init.constant_(param, val=0)\n",
    "        print(name, param.data)"
   ]
  },
  {
   "cell_type": "markdown",
   "id": "f3d65356-ad0f-4c7f-a0cc-1e41c93c2f81",
   "metadata": {},
   "source": [
    "#### **自定义初始化权重**？"
   ]
  },
  {
   "cell_type": "markdown",
   "id": "bdae2f87-1f67-47fc-b0fb-3ca4dc6006c7",
   "metadata": {},
   "source": [
    "构造函数对tensor进行操作但是不要记录梯度"
   ]
  },
  {
   "cell_type": "markdown",
   "id": "220c6627-3549-4fbc-82e0-260224c48267",
   "metadata": {},
   "source": [
    " 类似的我们来实现一个自定义的初始化方法。在下面的例子里，我们令权重有一半概率初始化为0，有另一半概率初始化为$[−10,−5][−10,−5]$和$[5,10][5,10]$两个区间里均匀分布的随机数。"
   ]
  },
  {
   "cell_type": "code",
   "execution_count": 13,
   "id": "ff6693c4-580b-4c2a-b3ed-f77b81ebde5a",
   "metadata": {},
   "outputs": [],
   "source": [
    "def init_weight_(tensor):\n",
    "    with torch.no_grad():\n",
    "        tensor.uniform_(-10, 10)\n",
    "        tensor *= (tensor.abs() >=5).float()"
   ]
  },
  {
   "cell_type": "markdown",
   "id": "e492b880-2f95-4b6d-947f-0a1fbf606889",
   "metadata": {},
   "source": [
    "#### **共享模型参数**"
   ]
  },
  {
   "cell_type": "markdown",
   "id": "f0f1a059-5daf-474e-b644-78002c59d038",
   "metadata": {},
   "source": [
    "调用同一个层即可"
   ]
  },
  {
   "cell_type": "code",
   "execution_count": 15,
   "id": "2a7fd321-0912-4a88-b398-38cf86edcf9c",
   "metadata": {},
   "outputs": [
    {
     "name": "stdout",
     "output_type": "stream",
     "text": [
      "Sequential(\n",
      "  (0): Linear(in_features=1, out_features=1, bias=False)\n",
      "  (1): Linear(in_features=1, out_features=1, bias=False)\n",
      "  (2): Linear(in_features=1, out_features=1, bias=False)\n",
      ")\n",
      "0.weight tensor([[3.]])\n"
     ]
    }
   ],
   "source": [
    "linear = nn.Linear(1, 1, bias=False)\n",
    "net = nn.Sequential(linear, linear, linear) \n",
    "print(net)\n",
    "for name, param in net.named_parameters():\n",
    "    init.constant_(param, val=3)\n",
    "    print(name, param.data)\n"
   ]
  },
  {
   "cell_type": "code",
   "execution_count": 18,
   "id": "501818db-4ff7-49c1-b7ad-36884e33dd95",
   "metadata": {},
   "outputs": [
    {
     "name": "stdout",
     "output_type": "stream",
     "text": [
      "tensor(27., grad_fn=<SumBackward0>)\n"
     ]
    }
   ],
   "source": [
    "x = torch.ones(1, 1)\n",
    "y = net(x).sum()\n",
    "print(y)"
   ]
  },
  {
   "cell_type": "code",
   "execution_count": 19,
   "id": "77f4463e-25ab-4b01-8f56-c812dd298935",
   "metadata": {},
   "outputs": [],
   "source": [
    "y.backward()"
   ]
  },
  {
   "cell_type": "code",
   "execution_count": 20,
   "id": "3d9c8b45-f78b-4a6f-97c7-ac0269c4a8ac",
   "metadata": {},
   "outputs": [
    {
     "name": "stdout",
     "output_type": "stream",
     "text": [
      "tensor([[27.]])\n"
     ]
    }
   ],
   "source": [
    "print(net[0].weight.grad)"
   ]
  },
  {
   "cell_type": "code",
   "execution_count": null,
   "id": "8c4527e1-3f58-4dd8-a5f0-b06655c78744",
   "metadata": {},
   "outputs": [],
   "source": []
  }
 ],
 "metadata": {
  "kernelspec": {
   "display_name": "Python 3 (ipykernel)",
   "language": "python",
   "name": "python3"
  },
  "language_info": {
   "codemirror_mode": {
    "name": "ipython",
    "version": 3
   },
   "file_extension": ".py",
   "mimetype": "text/x-python",
   "name": "python",
   "nbconvert_exporter": "python",
   "pygments_lexer": "ipython3",
   "version": "3.8.8"
  }
 },
 "nbformat": 4,
 "nbformat_minor": 5
}
