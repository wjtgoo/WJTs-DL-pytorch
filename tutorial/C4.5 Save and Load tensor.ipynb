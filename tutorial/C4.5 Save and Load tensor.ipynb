{
 "cells": [
  {
   "cell_type": "markdown",
   "id": "7959371a-2f67-4834-a5e7-dbe86930f638",
   "metadata": {},
   "source": [
    "# 读取和储存模型"
   ]
  },
  {
   "cell_type": "markdown",
   "id": "92c208b9-85d0-499f-ab29-0949e47ccf6a",
   "metadata": {},
   "source": [
    "将内存中训练好的模型参数储存到硬盘供以后使用"
   ]
  },
  {
   "cell_type": "markdown",
   "id": "d2fbc842-fb67-4fb8-9370-af6b6621a804",
   "metadata": {},
   "source": [
    "#### 01 读写Tensor"
   ]
  },
  {
   "cell_type": "markdown",
   "id": "c55bc385-7f05-440d-878e-29250253a019",
   "metadata": {},
   "source": [
    "`save`保存`load`读取Tensor"
   ]
  },
  {
   "cell_type": "code",
   "execution_count": 1,
   "id": "a530373c-d5e9-4a7a-aa45-12b0711bfd38",
   "metadata": {},
   "outputs": [],
   "source": [
    "import torch\n",
    "from torch import nn"
   ]
  },
  {
   "cell_type": "code",
   "execution_count": 3,
   "id": "48a9b834-54d4-4ffd-b922-80a21cfa0b83",
   "metadata": {},
   "outputs": [],
   "source": [
    "# 保存\n",
    "x = torch.ones(3)\n",
    "torch.save(x, 'x.pt')"
   ]
  },
  {
   "cell_type": "code",
   "execution_count": 4,
   "id": "d5dd2ef4-7fa0-4b2a-a9ff-caa2cc0b8065",
   "metadata": {},
   "outputs": [
    {
     "data": {
      "text/plain": [
       "tensor([1., 1., 1.])"
      ]
     },
     "execution_count": 4,
     "metadata": {},
     "output_type": "execute_result"
    }
   ],
   "source": [
    "# 加载\n",
    "x2 = torch.load('x.pt')\n",
    "x2"
   ]
  },
  {
   "cell_type": "markdown",
   "id": "23ea2eaf-a40b-4bb5-8fe5-6162cb14e888",
   "metadata": {},
   "source": [
    "**可以储存Tensor构成的列表、字典**"
   ]
  },
  {
   "cell_type": "markdown",
   "id": "ed0a37e4-c463-4e65-a461-9652e4954026",
   "metadata": {},
   "source": [
    "#### 02 读写模型"
   ]
  },
  {
   "cell_type": "markdown",
   "id": "2945eabc-2231-4c32-86c7-17690cbc5373",
   "metadata": {},
   "source": [
    "module的可学习参数（权重与偏差）可在`model.parameters()`中访问。  \n",
    "`state_dict`是一个参数名称映射到参数的tensor字典对象  \n",
    "注:优化器也有`state_dict`保存了超参数等信息"
   ]
  },
  {
   "cell_type": "code",
   "execution_count": 3,
   "id": "aae98ae6-362b-44c1-9af8-0faece135542",
   "metadata": {},
   "outputs": [
    {
     "data": {
      "text/plain": [
       "OrderedDict([('hidden.weight',\n",
       "              tensor([[ 0.1508,  0.2268, -0.2623],\n",
       "                      [ 0.1034,  0.3921,  0.4894]])),\n",
       "             ('hidden.bias', tensor([ 0.3778, -0.4706])),\n",
       "             ('output.weight', tensor([[ 0.6727, -0.5483]])),\n",
       "             ('output.bias', tensor([0.6952]))])"
      ]
     },
     "execution_count": 3,
     "metadata": {},
     "output_type": "execute_result"
    }
   ],
   "source": [
    "class MLP(nn.Module):\n",
    "    def __init__(self):\n",
    "        super(MLP, self).__init__()\n",
    "        self.hidden = nn.Linear(3, 2)\n",
    "        self.act = nn.ReLU()\n",
    "        self.output = nn.Linear(2, 1)\n",
    "\n",
    "    def forward(self, x):\n",
    "        a = self.act(self.hidden(x))\n",
    "        return self.output(a)\n",
    "\n",
    "net = MLP()\n",
    "net.state_dict()"
   ]
  },
  {
   "cell_type": "code",
   "execution_count": 7,
   "id": "94a0a182-6bd3-4b3c-a05c-1be029690050",
   "metadata": {},
   "outputs": [
    {
     "data": {
      "text/plain": [
       "{'state': {},\n",
       " 'param_groups': [{'lr': 0.001,\n",
       "   'momentum': 0.9,\n",
       "   'dampening': 0,\n",
       "   'weight_decay': 0,\n",
       "   'nesterov': False,\n",
       "   'params': [0, 1, 2, 3]}]}"
      ]
     },
     "execution_count": 7,
     "metadata": {},
     "output_type": "execute_result"
    }
   ],
   "source": [
    "optimizer = torch.optim.SGD(net.parameters(), lr=0.001, momentum=0.9)\n",
    "optimizer.state_dict()"
   ]
  },
  {
   "cell_type": "markdown",
   "id": "2af40287-7164-4817-98bd-30533b1fe2b4",
   "metadata": {},
   "source": [
    "**保存和加载模型**"
   ]
  },
  {
   "cell_type": "markdown",
   "id": "4a230efe-4763-4a57-921e-ea09a18e026a",
   "metadata": {},
   "source": [
    "1. 保存和加载模型的state_dict"
   ]
  },
  {
   "cell_type": "code",
   "execution_count": 8,
   "id": "27274314-41ca-45e2-8834-8fea0f858047",
   "metadata": {},
   "outputs": [],
   "source": [
    "# 保存\n",
    "torch.save(net.state_dict(), 'net.pth')"
   ]
  },
  {
   "cell_type": "code",
   "execution_count": 9,
   "id": "394d1fd3-4454-42f7-a52d-98cb17c4793a",
   "metadata": {},
   "outputs": [
    {
     "data": {
      "text/plain": [
       "<All keys matched successfully>"
      ]
     },
     "execution_count": 9,
     "metadata": {},
     "output_type": "execute_result"
    }
   ],
   "source": [
    "# 加载\n",
    "net = MLP()\n",
    "net.load_state_dict(torch.load('net.pth'))"
   ]
  },
  {
   "cell_type": "markdown",
   "id": "e7825d5e-5334-4382-a58e-3e2c82e45a0d",
   "metadata": {},
   "source": [
    "2. 保存和加载整个模型"
   ]
  },
  {
   "cell_type": "code",
   "execution_count": 12,
   "id": "e1207c84-627b-447b-b451-8b94080edad0",
   "metadata": {},
   "outputs": [],
   "source": [
    "# 保存\n",
    "torch.save(net, 'model.pth')"
   ]
  },
  {
   "cell_type": "code",
   "execution_count": 6,
   "id": "f9c787b5-9774-400e-874e-0a07cf110cce",
   "metadata": {},
   "outputs": [],
   "source": [
    "# 加载\n",
    "# 还是要定义出原来模型，不然无法加载！！！！\n",
    "net = torch.load('model.pth')"
   ]
  },
  {
   "cell_type": "code",
   "execution_count": null,
   "id": "6c90776c-0361-4920-ad2f-105edb084001",
   "metadata": {},
   "outputs": [],
   "source": []
  }
 ],
 "metadata": {
  "kernelspec": {
   "display_name": "Python 3 (ipykernel)",
   "language": "python",
   "name": "python3"
  },
  "language_info": {
   "codemirror_mode": {
    "name": "ipython",
    "version": 3
   },
   "file_extension": ".py",
   "mimetype": "text/x-python",
   "name": "python",
   "nbconvert_exporter": "python",
   "pygments_lexer": "ipython3",
   "version": "3.8.8"
  }
 },
 "nbformat": 4,
 "nbformat_minor": 5
}
