{
 "cells": [
  {
   "cell_type": "code",
   "execution_count": 1,
   "id": "1850e61a-b09a-41ab-8dd0-eee24f7befea",
   "metadata": {},
   "outputs": [],
   "source": [
    "import torch"
   ]
  },
  {
   "cell_type": "code",
   "execution_count": 2,
   "id": "94dd1f5f-7bd5-479b-9741-14aecffca604",
   "metadata": {},
   "outputs": [
    {
     "data": {
      "text/plain": [
       "False"
      ]
     },
     "execution_count": 2,
     "metadata": {},
     "output_type": "execute_result"
    }
   ],
   "source": [
    "torch.cuda.is_available()"
   ]
  },
  {
   "cell_type": "markdown",
   "id": "810e043b-7028-4cf0-8e03-d7109645e88a",
   "metadata": {},
   "source": [
    "#### Tensor GPU 计算"
   ]
  },
  {
   "cell_type": "code",
   "execution_count": 3,
   "id": "f6a00cda-53f1-4adc-8ff8-be0d0bf475ba",
   "metadata": {},
   "outputs": [
    {
     "data": {
      "text/plain": [
       "device(type='cpu')"
      ]
     },
     "execution_count": 3,
     "metadata": {},
     "output_type": "execute_result"
    }
   ],
   "source": [
    "device = torch.device('cuda' if torch.cuda.is_available() else 'cpu')\n",
    "device"
   ]
  },
  {
   "cell_type": "code",
   "execution_count": 8,
   "id": "b814c56f-3c5e-4117-9588-7a5de569e731",
   "metadata": {},
   "outputs": [],
   "source": [
    "x = torch.randn(4).to(device)"
   ]
  },
  {
   "cell_type": "code",
   "execution_count": 9,
   "id": "35188eba-7ee2-46eb-b5e5-f9562feff0c4",
   "metadata": {},
   "outputs": [
    {
     "data": {
      "text/plain": [
       "tensor([-0.1946, -0.9652, -0.6304,  0.2903])"
      ]
     },
     "execution_count": 9,
     "metadata": {},
     "output_type": "execute_result"
    }
   ],
   "source": [
    "x"
   ]
  },
  {
   "cell_type": "markdown",
   "id": "d23adf93-d690-4c60-a5dd-3e492b6e9347",
   "metadata": {},
   "source": [
    "在GPU计算数据还是储存在GPU内存上"
   ]
  },
  {
   "cell_type": "markdown",
   "id": "34981f8b-c61e-41f8-bc29-e019da328d55",
   "metadata": {},
   "source": [
    "#### 模型 GPU 计算"
   ]
  },
  {
   "cell_type": "code",
   "execution_count": 10,
   "id": "45ffd0f7-75d3-4348-bf6b-05c77b252f36",
   "metadata": {},
   "outputs": [
    {
     "ename": "NameError",
     "evalue": "name 'net' is not defined",
     "output_type": "error",
     "traceback": [
      "\u001b[1;31m---------------------------------------------------------------------------\u001b[0m",
      "\u001b[1;31mNameError\u001b[0m                                 Traceback (most recent call last)",
      "\u001b[1;32m~\\AppData\\Local\\Temp/ipykernel_11564/3941556320.py\u001b[0m in \u001b[0;36m<module>\u001b[1;34m\u001b[0m\n\u001b[1;32m----> 1\u001b[1;33m \u001b[0mnet\u001b[0m\u001b[1;33m.\u001b[0m\u001b[0mto\u001b[0m\u001b[1;33m(\u001b[0m\u001b[0mdevice\u001b[0m\u001b[1;33m)\u001b[0m\u001b[1;33m\u001b[0m\u001b[1;33m\u001b[0m\u001b[0m\n\u001b[0m",
      "\u001b[1;31mNameError\u001b[0m: name 'net' is not defined"
     ]
    }
   ],
   "source": [
    "# 将每个参数放到GPU上\n",
    "net.to(device)"
   ]
  },
  {
   "cell_type": "markdown",
   "id": "31c5f505-ef48-4484-bac7-34baddb4e81f",
   "metadata": {},
   "source": [
    "#### 注意"
   ]
  },
  {
   "cell_type": "markdown",
   "id": "5c9e1c67-704f-4c8f-98ae-fefed311a00b",
   "metadata": {},
   "source": [
    "[![7mx4N8.jpg](https://s4.ax1x.com/2022/01/11/7mx4N8.jpg)]"
   ]
  },
  {
   "cell_type": "code",
   "execution_count": null,
   "id": "7cf2fa8d-fcdb-4b3c-b862-979f76ea21ff",
   "metadata": {},
   "outputs": [],
   "source": []
  }
 ],
 "metadata": {
  "kernelspec": {
   "display_name": "Python 3 (ipykernel)",
   "language": "python",
   "name": "python3"
  },
  "language_info": {
   "codemirror_mode": {
    "name": "ipython",
    "version": 3
   },
   "file_extension": ".py",
   "mimetype": "text/x-python",
   "name": "python",
   "nbconvert_exporter": "python",
   "pygments_lexer": "ipython3",
   "version": "3.8.8"
  }
 },
 "nbformat": 4,
 "nbformat_minor": 5
}
