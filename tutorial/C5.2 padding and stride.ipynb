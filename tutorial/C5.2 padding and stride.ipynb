{
 "cells": [
  {
   "cell_type": "markdown",
   "id": "aed8fca3-a8f7-4a4c-92ae-fd6145734616",
   "metadata": {},
   "source": [
    "#### 填充(padding):\n",
    "在图像高和宽两侧填充（0）元素"
   ]
  },
  {
   "cell_type": "markdown",
   "id": "99349b71-c497-4d3a-afa1-18cc344e412a",
   "metadata": {},
   "source": [
    "#### 步幅(stride)：\n",
    "卷积核每次移动的步数"
   ]
  },
  {
   "cell_type": "code",
   "execution_count": null,
   "id": "423f2680-3e00-4bf6-961b-dafe55d4ea34",
   "metadata": {},
   "outputs": [],
   "source": []
  }
 ],
 "metadata": {
  "kernelspec": {
   "display_name": "Python 3 (ipykernel)",
   "language": "python",
   "name": "python3"
  },
  "language_info": {
   "codemirror_mode": {
    "name": "ipython",
    "version": 3
   },
   "file_extension": ".py",
   "mimetype": "text/x-python",
   "name": "python",
   "nbconvert_exporter": "python",
   "pygments_lexer": "ipython3",
   "version": "3.8.8"
  }
 },
 "nbformat": 4,
 "nbformat_minor": 5
}
