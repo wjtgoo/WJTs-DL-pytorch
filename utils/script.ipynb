{
 "cells": [
  {
   "cell_type": "code",
   "execution_count": 2,
   "id": "2711d79e-73a1-4d62-9bb3-2f2f6ae9bbc9",
   "metadata": {},
   "outputs": [],
   "source": [
    "import matplotlib.pyplot as plt\n",
    "import torch\n",
    "import numpy as np"
   ]
  },
  {
   "cell_type": "code",
   "execution_count": null,
   "id": "c867d17f-1e56-4597-92b1-83ceb2b9b978",
   "metadata": {},
   "outputs": [],
   "source": [
    "def show_images_labels(images, labels):\n",
    "    '''\n",
    "    show images and labels in a line\n",
    "    input:\n",
    "        images: [0,1] tensor or \n",
    "    '''\n",
    "    _, figs = plt.subplots(1, len(images), figsize=(12,12))\n",
    "    for f, img, lbl in zip(figs, images, labels):\n",
    "        print(img.size)\n",
    "        img_c_h_w = img.numpy()\n",
    "        img_c_h_w = np.squeeze(img_c_h_w)\n",
    "        if len(img_c_h_w.shape)==3:\n",
    "            img_h_w_c = np.transpose(img_c_h_w, (1,2,0))\n",
    "        else:\n",
    "            img_h_w_c = img_c_h_w\n",
    "        f.imshow(img_h_w_c)\n",
    "        f.set_title(lbl)\n",
    "        f.axes.get_xaxis().set_visible(False)\n",
    "        f.axes.get_yaxis().set_visible(False)\n",
    "    plt.show()"
   ]
  },
  {
   "cell_type": "code",
   "execution_count": 10,
   "id": "f77e6071-4c13-424e-87be-15fbf5a2177e",
   "metadata": {},
   "outputs": [],
   "source": [
    "a = torch.tensor([1,2,3])"
   ]
  },
  {
   "cell_type": "code",
   "execution_count": 11,
   "id": "c84f06ba-0571-40f1-8718-9069889c16dd",
   "metadata": {},
   "outputs": [
    {
     "data": {
      "text/plain": [
       "device(type='cpu')"
      ]
     },
     "execution_count": 11,
     "metadata": {},
     "output_type": "execute_result"
    }
   ],
   "source": [
    "a.device"
   ]
  },
  {
   "cell_type": "code",
   "execution_count": 12,
   "id": "c8e1d040-5d39-4d75-9013-5b100991474c",
   "metadata": {},
   "outputs": [
    {
     "data": {
      "text/plain": [
       "torch.Tensor"
      ]
     },
     "execution_count": 12,
     "metadata": {},
     "output_type": "execute_result"
    }
   ],
   "source": [
    "type(a)"
   ]
  },
  {
   "cell_type": "code",
   "execution_count": null,
   "id": "d2718690-4ffd-4e59-bbe0-8a7e52186da8",
   "metadata": {},
   "outputs": [],
   "source": []
  }
 ],
 "metadata": {
  "kernelspec": {
   "display_name": "Python 3 (ipykernel)",
   "language": "python",
   "name": "python3"
  },
  "language_info": {
   "codemirror_mode": {
    "name": "ipython",
    "version": 3
   },
   "file_extension": ".py",
   "mimetype": "text/x-python",
   "name": "python",
   "nbconvert_exporter": "python",
   "pygments_lexer": "ipython3",
   "version": "3.8.8"
  }
 },
 "nbformat": 4,
 "nbformat_minor": 5
}
